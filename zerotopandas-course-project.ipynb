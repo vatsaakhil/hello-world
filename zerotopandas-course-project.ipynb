{
 "cells": [
  {
   "cell_type": "markdown",
   "metadata": {},
   "source": [
    "# India Football Data \n",
    "In this notebook we will observe the dataset of all international football matches played in India from 1954-2019, we will try to make sense of the data, observe trends and validate them using pandas, seaborn and matlotlib libraries.\n",
    "This is a part of the course [Data Analysis with Python: Zero to Pandas](zerotopandas.com)"
   ]
  },
  {
   "cell_type": "markdown",
   "metadata": {},
   "source": [
    "### How to run the code\n",
    "\n",
    "This is an executable [*Jupyter notebook*](https://jupyter.org) hosted on [Jovian.ml](https://www.jovian.ml), a platform for sharing data science projects. You can run and experiment with the code in a couple of ways: *using free online resources* (recommended) or *on your own computer*.\n",
    "\n",
    "#### Option 1: Running using free online resources (1-click, recommended)\n",
    "\n",
    "The easiest way to start executing this notebook is to click the \"Run\" button at the top of this page, and select \"Run on Binder\". This will run the notebook on [mybinder.org](https://mybinder.org), a free online service for running Jupyter notebooks. You can also select \"Run on Colab\" or \"Run on Kaggle\".\n",
    "\n",
    "\n",
    "#### Option 2: Running on your computer locally\n",
    "\n",
    "1. Install Conda by [following these instructions](https://conda.io/projects/conda/en/latest/user-guide/install/index.html). Add Conda binaries to your system `PATH`, so you can use the `conda` command on your terminal.\n",
    "\n",
    "2. Create a Conda environment and install the required libraries by running these commands on the terminal:\n",
    "\n",
    "```\n",
    "conda create -n zerotopandas -y python=3.8 \n",
    "conda activate zerotopandas\n",
    "pip install jovian jupyter numpy pandas matplotlib seaborn opendatasets --upgrade\n",
    "```\n",
    "\n",
    "3. Press the \"Clone\" button above to copy the command for downloading the notebook, and run it on the terminal. This will create a new directory and download the notebook. The command will look something like this:\n",
    "\n",
    "```\n",
    "jovian clone notebook-owner/notebook-id\n",
    "```\n",
    "\n",
    "\n",
    "\n",
    "4. Enter the newly created directory using `cd directory-name` and start the Jupyter notebook.\n",
    "\n",
    "```\n",
    "jupyter notebook\n",
    "```\n",
    "\n",
    "You can now access Jupyter's web interface by clicking the link that shows up on the terminal or by visiting http://localhost:8888 on your browser. Click on the notebook file (it has a `.ipynb` extension) to open it.\n"
   ]
  },
  {
   "cell_type": "markdown",
   "metadata": {},
   "source": [
    "## Downloading the Dataset\n",
    "\n",
    "**TODO** - We will download the dataset of all international football matches from Kaggle thanks to Mart Jürisoo"
   ]
  },
  {
   "cell_type": "code",
   "execution_count": 118,
   "metadata": {},
   "outputs": [],
   "source": [
    "import warnings\n",
    "warnings.filterwarnings('ignore')"
   ]
  },
  {
   "cell_type": "code",
   "execution_count": null,
   "metadata": {},
   "outputs": [],
   "source": [
    "!pip install jovian opendatasets --upgrade --quiet"
   ]
  },
  {
   "cell_type": "markdown",
   "metadata": {},
   "source": [
    "Let's begin by downloading the data, and listing the files within the dataset."
   ]
  },
  {
   "cell_type": "code",
   "execution_count": null,
   "metadata": {},
   "outputs": [],
   "source": [
    "# Change this\n",
    "dataset_url = 'http://www.kaggle.com/martj42/international-football-results-from-1872-to-2017' "
   ]
  },
  {
   "cell_type": "code",
   "execution_count": null,
   "metadata": {
    "scrolled": true
   },
   "outputs": [],
   "source": [
    "import opendatasets as od\n",
    "od.download(dataset_url)"
   ]
  },
  {
   "cell_type": "markdown",
   "metadata": {},
   "source": [
    "The dataset has been downloaded and extracted."
   ]
  },
  {
   "cell_type": "code",
   "execution_count": 1,
   "metadata": {},
   "outputs": [],
   "source": [
    "# Change this\n",
    "data_dir = './international-football-results-from-1872-to-2017'"
   ]
  },
  {
   "cell_type": "code",
   "execution_count": 28,
   "metadata": {
    "scrolled": true
   },
   "outputs": [
    {
     "data": {
      "text/plain": [
       "['results.csv']"
      ]
     },
     "execution_count": 28,
     "metadata": {},
     "output_type": "execute_result"
    }
   ],
   "source": [
    "import os\n",
    "os.listdir(data_dir)"
   ]
  },
  {
   "cell_type": "markdown",
   "metadata": {},
   "source": [
    "Let us save and upload our work to Jovian before continuing."
   ]
  },
  {
   "cell_type": "code",
   "execution_count": null,
   "metadata": {},
   "outputs": [],
   "source": [
    "project_name = \"zerotopandas-football\" # change this (use lowercase letters and hyphens only)"
   ]
  },
  {
   "cell_type": "code",
   "execution_count": null,
   "metadata": {},
   "outputs": [],
   "source": [
    "!pip install jovian --upgrade -q"
   ]
  },
  {
   "cell_type": "code",
   "execution_count": null,
   "metadata": {},
   "outputs": [],
   "source": [
    "import jovian"
   ]
  },
  {
   "cell_type": "code",
   "execution_count": null,
   "metadata": {},
   "outputs": [],
   "source": [
    "jovian.commit(project=project_name)"
   ]
  },
  {
   "cell_type": "markdown",
   "metadata": {},
   "source": [
    "## Data Preparation and Cleaning\n",
    "\n",
    "**TODO** - We will see a brief summary of the dataset, check for any missing values and overall datatypes of each column \n",
    "\n"
   ]
  },
  {
   "cell_type": "code",
   "execution_count": 3,
   "metadata": {},
   "outputs": [],
   "source": [
    "import pandas as pd\n",
    "dataset=pd.read_csv('./international-football-results-from-1872-to-2017/results.csv')"
   ]
  },
  {
   "cell_type": "code",
   "execution_count": 122,
   "metadata": {
    "scrolled": true
   },
   "outputs": [],
   "source": [
    "#We are filtering out data for India\n",
    "india_df=dataset[dataset.country=='India']"
   ]
  },
  {
   "cell_type": "code",
   "execution_count": 140,
   "metadata": {
    "scrolled": true
   },
   "outputs": [
    {
     "data": {
      "text/plain": [
       "pandas.core.frame.DataFrame"
      ]
     },
     "execution_count": 140,
     "metadata": {},
     "output_type": "execute_result"
    }
   ],
   "source": [
    "type(india_df)"
   ]
  },
  {
   "cell_type": "code",
   "execution_count": 124,
   "metadata": {
    "scrolled": true
   },
   "outputs": [
    {
     "data": {
      "text/plain": [
       "(255, 9)"
      ]
     },
     "execution_count": 124,
     "metadata": {},
     "output_type": "execute_result"
    }
   ],
   "source": [
    "india_df.shape\n",
    "#We see there are total of 255 rows and 9 columns in our dataset"
   ]
  },
  {
   "cell_type": "code",
   "execution_count": 125,
   "metadata": {},
   "outputs": [],
   "source": [
    "#Creating a new colum for total goals scored in a match\n",
    "india_df['total_goals']=india_df.home_score+india_df.away_score"
   ]
  },
  {
   "cell_type": "code",
   "execution_count": 126,
   "metadata": {
    "scrolled": false
   },
   "outputs": [
    {
     "data": {
      "text/html": [
       "<div>\n",
       "<style scoped>\n",
       "    .dataframe tbody tr th:only-of-type {\n",
       "        vertical-align: middle;\n",
       "    }\n",
       "\n",
       "    .dataframe tbody tr th {\n",
       "        vertical-align: top;\n",
       "    }\n",
       "\n",
       "    .dataframe thead th {\n",
       "        text-align: right;\n",
       "    }\n",
       "</style>\n",
       "<table border=\"1\" class=\"dataframe\">\n",
       "  <thead>\n",
       "    <tr style=\"text-align: right;\">\n",
       "      <th></th>\n",
       "      <th>date</th>\n",
       "      <th>home_team</th>\n",
       "      <th>away_team</th>\n",
       "      <th>home_score</th>\n",
       "      <th>away_score</th>\n",
       "      <th>tournament</th>\n",
       "      <th>city</th>\n",
       "      <th>country</th>\n",
       "      <th>neutral</th>\n",
       "      <th>total_goals</th>\n",
       "    </tr>\n",
       "  </thead>\n",
       "  <tbody>\n",
       "    <tr>\n",
       "      <th>29456</th>\n",
       "      <td>2007-08-19</td>\n",
       "      <td>Kyrgyzstan</td>\n",
       "      <td>Cambodia</td>\n",
       "      <td>4</td>\n",
       "      <td>3</td>\n",
       "      <td>Nehru Cup</td>\n",
       "      <td>New Delhi</td>\n",
       "      <td>India</td>\n",
       "      <td>True</td>\n",
       "      <td>7</td>\n",
       "    </tr>\n",
       "    <tr>\n",
       "      <th>34350</th>\n",
       "      <td>2012-08-28</td>\n",
       "      <td>India</td>\n",
       "      <td>Nepal</td>\n",
       "      <td>0</td>\n",
       "      <td>0</td>\n",
       "      <td>Nehru Cup</td>\n",
       "      <td>New Delhi</td>\n",
       "      <td>India</td>\n",
       "      <td>False</td>\n",
       "      <td>0</td>\n",
       "    </tr>\n",
       "    <tr>\n",
       "      <th>21930</th>\n",
       "      <td>1999-04-25</td>\n",
       "      <td>Sri Lanka</td>\n",
       "      <td>Nepal</td>\n",
       "      <td>2</td>\n",
       "      <td>3</td>\n",
       "      <td>SAFF Cup</td>\n",
       "      <td>Margao</td>\n",
       "      <td>India</td>\n",
       "      <td>True</td>\n",
       "      <td>5</td>\n",
       "    </tr>\n",
       "    <tr>\n",
       "      <th>33769</th>\n",
       "      <td>2011-11-29</td>\n",
       "      <td>India</td>\n",
       "      <td>Zambia</td>\n",
       "      <td>0</td>\n",
       "      <td>5</td>\n",
       "      <td>Friendly</td>\n",
       "      <td>Margao</td>\n",
       "      <td>India</td>\n",
       "      <td>False</td>\n",
       "      <td>5</td>\n",
       "    </tr>\n",
       "    <tr>\n",
       "      <th>18777</th>\n",
       "      <td>1995-03-16</td>\n",
       "      <td>Thailand</td>\n",
       "      <td>Uzbekistan</td>\n",
       "      <td>0</td>\n",
       "      <td>1</td>\n",
       "      <td>Nehru Cup</td>\n",
       "      <td>Calcutta</td>\n",
       "      <td>India</td>\n",
       "      <td>True</td>\n",
       "      <td>1</td>\n",
       "    </tr>\n",
       "    <tr>\n",
       "      <th>23827</th>\n",
       "      <td>2001-04-15</td>\n",
       "      <td>India</td>\n",
       "      <td>Yemen</td>\n",
       "      <td>1</td>\n",
       "      <td>1</td>\n",
       "      <td>FIFA World Cup qualification</td>\n",
       "      <td>Bangalore</td>\n",
       "      <td>India</td>\n",
       "      <td>False</td>\n",
       "      <td>2</td>\n",
       "    </tr>\n",
       "    <tr>\n",
       "      <th>41371</th>\n",
       "      <td>2019-10-15</td>\n",
       "      <td>India</td>\n",
       "      <td>Bangladesh</td>\n",
       "      <td>1</td>\n",
       "      <td>1</td>\n",
       "      <td>FIFA World Cup qualification</td>\n",
       "      <td>Kolkota</td>\n",
       "      <td>India</td>\n",
       "      <td>False</td>\n",
       "      <td>2</td>\n",
       "    </tr>\n",
       "    <tr>\n",
       "      <th>13463</th>\n",
       "      <td>1985-01-29</td>\n",
       "      <td>China PR</td>\n",
       "      <td>Yugoslavia</td>\n",
       "      <td>1</td>\n",
       "      <td>1</td>\n",
       "      <td>Nehru Cup</td>\n",
       "      <td>Ernakulam</td>\n",
       "      <td>India</td>\n",
       "      <td>True</td>\n",
       "      <td>2</td>\n",
       "    </tr>\n",
       "    <tr>\n",
       "      <th>13467</th>\n",
       "      <td>1985-01-31</td>\n",
       "      <td>India</td>\n",
       "      <td>Morocco</td>\n",
       "      <td>0</td>\n",
       "      <td>1</td>\n",
       "      <td>Nehru Cup</td>\n",
       "      <td>Ernakulam</td>\n",
       "      <td>India</td>\n",
       "      <td>False</td>\n",
       "      <td>1</td>\n",
       "    </tr>\n",
       "    <tr>\n",
       "      <th>34349</th>\n",
       "      <td>2012-08-27</td>\n",
       "      <td>Maldives</td>\n",
       "      <td>Syria</td>\n",
       "      <td>2</td>\n",
       "      <td>1</td>\n",
       "      <td>Nehru Cup</td>\n",
       "      <td>New Delhi</td>\n",
       "      <td>India</td>\n",
       "      <td>True</td>\n",
       "      <td>3</td>\n",
       "    </tr>\n",
       "  </tbody>\n",
       "</table>\n",
       "</div>"
      ],
      "text/plain": [
       "             date   home_team   away_team  home_score  away_score  \\\n",
       "29456  2007-08-19  Kyrgyzstan    Cambodia           4           3   \n",
       "34350  2012-08-28       India       Nepal           0           0   \n",
       "21930  1999-04-25   Sri Lanka       Nepal           2           3   \n",
       "33769  2011-11-29       India      Zambia           0           5   \n",
       "18777  1995-03-16    Thailand  Uzbekistan           0           1   \n",
       "23827  2001-04-15       India       Yemen           1           1   \n",
       "41371  2019-10-15       India  Bangladesh           1           1   \n",
       "13463  1985-01-29    China PR  Yugoslavia           1           1   \n",
       "13467  1985-01-31       India     Morocco           0           1   \n",
       "34349  2012-08-27    Maldives       Syria           2           1   \n",
       "\n",
       "                         tournament       city country  neutral  total_goals  \n",
       "29456                     Nehru Cup  New Delhi   India     True            7  \n",
       "34350                     Nehru Cup  New Delhi   India    False            0  \n",
       "21930                      SAFF Cup     Margao   India     True            5  \n",
       "33769                      Friendly     Margao   India    False            5  \n",
       "18777                     Nehru Cup   Calcutta   India     True            1  \n",
       "23827  FIFA World Cup qualification  Bangalore   India    False            2  \n",
       "41371  FIFA World Cup qualification    Kolkota   India    False            2  \n",
       "13463                     Nehru Cup  Ernakulam   India     True            2  \n",
       "13467                     Nehru Cup  Ernakulam   India    False            1  \n",
       "34349                     Nehru Cup  New Delhi   India     True            3  "
      ]
     },
     "execution_count": 126,
     "metadata": {},
     "output_type": "execute_result"
    }
   ],
   "source": [
    "india_df.sample(10).head(10)\n",
    "#Random sample of 10 entries from the dataset"
   ]
  },
  {
   "cell_type": "code",
   "execution_count": 9,
   "metadata": {
    "scrolled": false
   },
   "outputs": [
    {
     "data": {
      "text/plain": [
       "3740    1954-12-18\n",
       "3741    1954-12-19\n",
       "3743    1954-12-21\n",
       "3744    1954-12-23\n",
       "3745    1954-12-25\n",
       "           ...    \n",
       "40966   2019-07-15\n",
       "40967   2019-07-16\n",
       "40975   2019-07-19\n",
       "41058   2019-09-05\n",
       "41371   2019-10-15\n",
       "Name: date, Length: 255, dtype: datetime64[ns]"
      ]
     },
     "execution_count": 9,
     "metadata": {},
     "output_type": "execute_result"
    }
   ],
   "source": [
    "#Converting the datatype of the 'date' column\n",
    "pd.to_datetime(india_df['date'])"
   ]
  },
  {
   "cell_type": "code",
   "execution_count": 127,
   "metadata": {
    "scrolled": true
   },
   "outputs": [
    {
     "name": "stdout",
     "output_type": "stream",
     "text": [
      "<class 'pandas.core.frame.DataFrame'>\n",
      "Int64Index: 255 entries, 3740 to 41371\n",
      "Data columns (total 10 columns):\n",
      " #   Column       Non-Null Count  Dtype \n",
      "---  ------       --------------  ----- \n",
      " 0   date         255 non-null    object\n",
      " 1   home_team    255 non-null    object\n",
      " 2   away_team    255 non-null    object\n",
      " 3   home_score   255 non-null    int64 \n",
      " 4   away_score   255 non-null    int64 \n",
      " 5   tournament   255 non-null    object\n",
      " 6   city         255 non-null    object\n",
      " 7   country      255 non-null    object\n",
      " 8   neutral      255 non-null    bool  \n",
      " 9   total_goals  255 non-null    int64 \n",
      "dtypes: bool(1), int64(3), object(6)\n",
      "memory usage: 20.2+ KB\n"
     ]
    }
   ],
   "source": [
    "india_df.info() \n",
    "#Structure of the dataframe"
   ]
  },
  {
   "cell_type": "code",
   "execution_count": 141,
   "metadata": {
    "scrolled": true
   },
   "outputs": [
    {
     "data": {
      "text/html": [
       "<div>\n",
       "<style scoped>\n",
       "    .dataframe tbody tr th:only-of-type {\n",
       "        vertical-align: middle;\n",
       "    }\n",
       "\n",
       "    .dataframe tbody tr th {\n",
       "        vertical-align: top;\n",
       "    }\n",
       "\n",
       "    .dataframe thead th {\n",
       "        text-align: right;\n",
       "    }\n",
       "</style>\n",
       "<table border=\"1\" class=\"dataframe\">\n",
       "  <thead>\n",
       "    <tr style=\"text-align: right;\">\n",
       "      <th></th>\n",
       "      <th>home_score</th>\n",
       "      <th>away_score</th>\n",
       "      <th>total_goals</th>\n",
       "      <th>year</th>\n",
       "      <th>month</th>\n",
       "      <th>day</th>\n",
       "      <th>weekday</th>\n",
       "    </tr>\n",
       "  </thead>\n",
       "  <tbody>\n",
       "    <tr>\n",
       "      <th>count</th>\n",
       "      <td>255.000000</td>\n",
       "      <td>255.000000</td>\n",
       "      <td>255.000000</td>\n",
       "      <td>255.000000</td>\n",
       "      <td>255.000000</td>\n",
       "      <td>255.000000</td>\n",
       "      <td>255.000000</td>\n",
       "    </tr>\n",
       "    <tr>\n",
       "      <th>mean</th>\n",
       "      <td>1.588235</td>\n",
       "      <td>1.333333</td>\n",
       "      <td>2.921569</td>\n",
       "      <td>2000.772549</td>\n",
       "      <td>6.462745</td>\n",
       "      <td>16.643137</td>\n",
       "      <td>3.019608</td>\n",
       "    </tr>\n",
       "    <tr>\n",
       "      <th>std</th>\n",
       "      <td>1.473873</td>\n",
       "      <td>1.381353</td>\n",
       "      <td>1.755118</td>\n",
       "      <td>14.955420</td>\n",
       "      <td>3.881815</td>\n",
       "      <td>9.080681</td>\n",
       "      <td>1.926710</td>\n",
       "    </tr>\n",
       "    <tr>\n",
       "      <th>min</th>\n",
       "      <td>0.000000</td>\n",
       "      <td>0.000000</td>\n",
       "      <td>0.000000</td>\n",
       "      <td>1954.000000</td>\n",
       "      <td>1.000000</td>\n",
       "      <td>1.000000</td>\n",
       "      <td>0.000000</td>\n",
       "    </tr>\n",
       "    <tr>\n",
       "      <th>25%</th>\n",
       "      <td>0.000000</td>\n",
       "      <td>0.000000</td>\n",
       "      <td>2.000000</td>\n",
       "      <td>1993.000000</td>\n",
       "      <td>3.000000</td>\n",
       "      <td>8.500000</td>\n",
       "      <td>1.000000</td>\n",
       "    </tr>\n",
       "    <tr>\n",
       "      <th>50%</th>\n",
       "      <td>1.000000</td>\n",
       "      <td>1.000000</td>\n",
       "      <td>3.000000</td>\n",
       "      <td>2007.000000</td>\n",
       "      <td>7.000000</td>\n",
       "      <td>17.000000</td>\n",
       "      <td>3.000000</td>\n",
       "    </tr>\n",
       "    <tr>\n",
       "      <th>75%</th>\n",
       "      <td>2.000000</td>\n",
       "      <td>2.000000</td>\n",
       "      <td>4.000000</td>\n",
       "      <td>2011.000000</td>\n",
       "      <td>10.000000</td>\n",
       "      <td>25.000000</td>\n",
       "      <td>5.000000</td>\n",
       "    </tr>\n",
       "    <tr>\n",
       "      <th>max</th>\n",
       "      <td>7.000000</td>\n",
       "      <td>8.000000</td>\n",
       "      <td>9.000000</td>\n",
       "      <td>2019.000000</td>\n",
       "      <td>12.000000</td>\n",
       "      <td>31.000000</td>\n",
       "      <td>6.000000</td>\n",
       "    </tr>\n",
       "  </tbody>\n",
       "</table>\n",
       "</div>"
      ],
      "text/plain": [
       "       home_score  away_score  total_goals         year       month  \\\n",
       "count  255.000000  255.000000   255.000000   255.000000  255.000000   \n",
       "mean     1.588235    1.333333     2.921569  2000.772549    6.462745   \n",
       "std      1.473873    1.381353     1.755118    14.955420    3.881815   \n",
       "min      0.000000    0.000000     0.000000  1954.000000    1.000000   \n",
       "25%      0.000000    0.000000     2.000000  1993.000000    3.000000   \n",
       "50%      1.000000    1.000000     3.000000  2007.000000    7.000000   \n",
       "75%      2.000000    2.000000     4.000000  2011.000000   10.000000   \n",
       "max      7.000000    8.000000     9.000000  2019.000000   12.000000   \n",
       "\n",
       "              day     weekday  \n",
       "count  255.000000  255.000000  \n",
       "mean    16.643137    3.019608  \n",
       "std      9.080681    1.926710  \n",
       "min      1.000000    0.000000  \n",
       "25%      8.500000    1.000000  \n",
       "50%     17.000000    3.000000  \n",
       "75%     25.000000    5.000000  \n",
       "max     31.000000    6.000000  "
      ]
     },
     "execution_count": 141,
     "metadata": {},
     "output_type": "execute_result"
    }
   ],
   "source": [
    "india_df.describe()\n",
    "#Statistical values for dataframe"
   ]
  },
  {
   "cell_type": "code",
   "execution_count": 128,
   "metadata": {
    "scrolled": true
   },
   "outputs": [
    {
     "data": {
      "text/plain": [
       "date           0\n",
       "home_team      0\n",
       "away_team      0\n",
       "home_score     0\n",
       "away_score     0\n",
       "tournament     0\n",
       "city           0\n",
       "country        0\n",
       "neutral        0\n",
       "total_goals    0\n",
       "dtype: int64"
      ]
     },
     "execution_count": 128,
     "metadata": {},
     "output_type": "execute_result"
    }
   ],
   "source": [
    "india_df.isnull().sum() \n",
    "#Count NA values for all columns"
   ]
  },
  {
   "cell_type": "code",
   "execution_count": 129,
   "metadata": {
    "scrolled": false
   },
   "outputs": [
    {
     "data": {
      "text/html": [
       "<div>\n",
       "<style scoped>\n",
       "    .dataframe tbody tr th:only-of-type {\n",
       "        vertical-align: middle;\n",
       "    }\n",
       "\n",
       "    .dataframe tbody tr th {\n",
       "        vertical-align: top;\n",
       "    }\n",
       "\n",
       "    .dataframe thead th {\n",
       "        text-align: right;\n",
       "    }\n",
       "</style>\n",
       "<table border=\"1\" class=\"dataframe\">\n",
       "  <thead>\n",
       "    <tr style=\"text-align: right;\">\n",
       "      <th></th>\n",
       "      <th>home_score</th>\n",
       "      <th>away_score</th>\n",
       "      <th>neutral</th>\n",
       "      <th>total_goals</th>\n",
       "    </tr>\n",
       "    <tr>\n",
       "      <th>city</th>\n",
       "      <th></th>\n",
       "      <th></th>\n",
       "      <th></th>\n",
       "      <th></th>\n",
       "    </tr>\n",
       "  </thead>\n",
       "  <tbody>\n",
       "    <tr>\n",
       "      <th>Ahmedabad</th>\n",
       "      <td>13</td>\n",
       "      <td>13</td>\n",
       "      <td>4</td>\n",
       "      <td>26</td>\n",
       "    </tr>\n",
       "    <tr>\n",
       "      <th>Bangalore</th>\n",
       "      <td>14</td>\n",
       "      <td>10</td>\n",
       "      <td>0</td>\n",
       "      <td>24</td>\n",
       "    </tr>\n",
       "    <tr>\n",
       "      <th>Bombay</th>\n",
       "      <td>10</td>\n",
       "      <td>4</td>\n",
       "      <td>1</td>\n",
       "      <td>14</td>\n",
       "    </tr>\n",
       "    <tr>\n",
       "      <th>Calcutta</th>\n",
       "      <td>86</td>\n",
       "      <td>66</td>\n",
       "      <td>30</td>\n",
       "      <td>152</td>\n",
       "    </tr>\n",
       "    <tr>\n",
       "      <th>Calicut</th>\n",
       "      <td>2</td>\n",
       "      <td>1</td>\n",
       "      <td>1</td>\n",
       "      <td>3</td>\n",
       "    </tr>\n",
       "    <tr>\n",
       "      <th>Chennai</th>\n",
       "      <td>2</td>\n",
       "      <td>2</td>\n",
       "      <td>0</td>\n",
       "      <td>4</td>\n",
       "    </tr>\n",
       "    <tr>\n",
       "      <th>Cochin</th>\n",
       "      <td>9</td>\n",
       "      <td>21</td>\n",
       "      <td>5</td>\n",
       "      <td>30</td>\n",
       "    </tr>\n",
       "    <tr>\n",
       "      <th>Ernakulam</th>\n",
       "      <td>16</td>\n",
       "      <td>21</td>\n",
       "      <td>11</td>\n",
       "      <td>37</td>\n",
       "    </tr>\n",
       "    <tr>\n",
       "      <th>Gangtok</th>\n",
       "      <td>3</td>\n",
       "      <td>0</td>\n",
       "      <td>1</td>\n",
       "      <td>3</td>\n",
       "    </tr>\n",
       "    <tr>\n",
       "      <th>Gurgaon</th>\n",
       "      <td>2</td>\n",
       "      <td>3</td>\n",
       "      <td>2</td>\n",
       "      <td>5</td>\n",
       "    </tr>\n",
       "    <tr>\n",
       "      <th>Guwahati</th>\n",
       "      <td>10</td>\n",
       "      <td>4</td>\n",
       "      <td>0</td>\n",
       "      <td>14</td>\n",
       "    </tr>\n",
       "    <tr>\n",
       "      <th>Hyderabad</th>\n",
       "      <td>28</td>\n",
       "      <td>27</td>\n",
       "      <td>12</td>\n",
       "      <td>55</td>\n",
       "    </tr>\n",
       "    <tr>\n",
       "      <th>Kochi</th>\n",
       "      <td>3</td>\n",
       "      <td>6</td>\n",
       "      <td>0</td>\n",
       "      <td>9</td>\n",
       "    </tr>\n",
       "    <tr>\n",
       "      <th>Kolkota</th>\n",
       "      <td>1</td>\n",
       "      <td>1</td>\n",
       "      <td>0</td>\n",
       "      <td>2</td>\n",
       "    </tr>\n",
       "    <tr>\n",
       "      <th>Madras</th>\n",
       "      <td>11</td>\n",
       "      <td>10</td>\n",
       "      <td>5</td>\n",
       "      <td>21</td>\n",
       "    </tr>\n",
       "    <tr>\n",
       "      <th>Margao</th>\n",
       "      <td>32</td>\n",
       "      <td>31</td>\n",
       "      <td>10</td>\n",
       "      <td>63</td>\n",
       "    </tr>\n",
       "    <tr>\n",
       "      <th>Mumbai</th>\n",
       "      <td>13</td>\n",
       "      <td>8</td>\n",
       "      <td>3</td>\n",
       "      <td>21</td>\n",
       "    </tr>\n",
       "    <tr>\n",
       "      <th>New Delhi</th>\n",
       "      <td>96</td>\n",
       "      <td>75</td>\n",
       "      <td>29</td>\n",
       "      <td>171</td>\n",
       "    </tr>\n",
       "    <tr>\n",
       "      <th>Pune</th>\n",
       "      <td>6</td>\n",
       "      <td>8</td>\n",
       "      <td>0</td>\n",
       "      <td>14</td>\n",
       "    </tr>\n",
       "    <tr>\n",
       "      <th>Siliguri</th>\n",
       "      <td>5</td>\n",
       "      <td>4</td>\n",
       "      <td>0</td>\n",
       "      <td>9</td>\n",
       "    </tr>\n",
       "    <tr>\n",
       "      <th>Thiruvananthapuram</th>\n",
       "      <td>28</td>\n",
       "      <td>16</td>\n",
       "      <td>8</td>\n",
       "      <td>44</td>\n",
       "    </tr>\n",
       "    <tr>\n",
       "      <th>Trivandrum</th>\n",
       "      <td>15</td>\n",
       "      <td>9</td>\n",
       "      <td>4</td>\n",
       "      <td>24</td>\n",
       "    </tr>\n",
       "  </tbody>\n",
       "</table>\n",
       "</div>"
      ],
      "text/plain": [
       "                    home_score  away_score  neutral  total_goals\n",
       "city                                                            \n",
       "Ahmedabad                   13          13        4           26\n",
       "Bangalore                   14          10        0           24\n",
       "Bombay                      10           4        1           14\n",
       "Calcutta                    86          66       30          152\n",
       "Calicut                      2           1        1            3\n",
       "Chennai                      2           2        0            4\n",
       "Cochin                       9          21        5           30\n",
       "Ernakulam                   16          21       11           37\n",
       "Gangtok                      3           0        1            3\n",
       "Gurgaon                      2           3        2            5\n",
       "Guwahati                    10           4        0           14\n",
       "Hyderabad                   28          27       12           55\n",
       "Kochi                        3           6        0            9\n",
       "Kolkota                      1           1        0            2\n",
       "Madras                      11          10        5           21\n",
       "Margao                      32          31       10           63\n",
       "Mumbai                      13           8        3           21\n",
       "New Delhi                   96          75       29          171\n",
       "Pune                         6           8        0           14\n",
       "Siliguri                     5           4        0            9\n",
       "Thiruvananthapuram          28          16        8           44\n",
       "Trivandrum                  15           9        4           24"
      ]
     },
     "execution_count": 129,
     "metadata": {},
     "output_type": "execute_result"
    }
   ],
   "source": [
    "india_df.groupby(by='city').sum() \n",
    "#Different names for same cities"
   ]
  },
  {
   "cell_type": "code",
   "execution_count": 130,
   "metadata": {
    "scrolled": true
   },
   "outputs": [],
   "source": [
    "india_df.loc[india_df['city'] == 'Calcutta', 'city'] = 'Kolkata'\n",
    "india_df.loc[india_df['city'] == 'Kolkota', 'city'] = 'Kolkata'\n",
    "india_df.loc[india_df['city'] == 'Bombay', 'city'] = 'Mumbai'\n",
    "india_df.loc[india_df['city'] == 'Cochin', 'city'] = 'Kochi'\n",
    "india_df.loc[india_df['city'] == 'Madras', 'city'] = 'Chennai'\n",
    "india_df.loc[india_df['city'] == 'Calicut', 'city'] = 'Kozhikode'\n",
    "india_df.loc[india_df['city'] == 'Trivandrum', 'city'] = 'Thiruvananthapuram'\n",
    "\n",
    "# Replacing the old name of cities with the new name"
   ]
  },
  {
   "cell_type": "code",
   "execution_count": 131,
   "metadata": {
    "scrolled": false
   },
   "outputs": [],
   "source": [
    "home_score=(india_df.home_score.mean())\n",
    "away_score=india_df.away_score.mean() #Home team scores more often"
   ]
  },
  {
   "cell_type": "code",
   "execution_count": 132,
   "metadata": {},
   "outputs": [
    {
     "name": "stdout",
     "output_type": "stream",
     "text": [
      "The average goals scored by home team is 1.59 and the average goals scored by away team is 1.33.\n"
     ]
    }
   ],
   "source": [
    "print('The average goals scored by home team is {:.2f} and the average goals scored by away team is {:.2f}.'.format(home_score,away_score))"
   ]
  },
  {
   "cell_type": "code",
   "execution_count": 133,
   "metadata": {
    "scrolled": false
   },
   "outputs": [
    {
     "data": {
      "text/plain": [
       "New Delhi             56\n",
       "Kolkata               55\n",
       "Margao                22\n",
       "Thiruvananthapuram    21\n",
       "Hyderabad             19\n",
       "Ernakulam             14\n",
       "Kochi                 14\n",
       "Mumbai                12\n",
       "Chennai               10\n",
       "Bangalore              9\n",
       "Ahmedabad              7\n",
       "Guwahati               4\n",
       "Pune                   4\n",
       "Siliguri               3\n",
       "Gurgaon                2\n",
       "Kozhikode              2\n",
       "Gangtok                1\n",
       "Name: city, dtype: int64"
      ]
     },
     "execution_count": 133,
     "metadata": {},
     "output_type": "execute_result"
    }
   ],
   "source": [
    "india_df.city.value_counts()\n",
    "\n",
    "#Count of all matches played in each city"
   ]
  },
  {
   "cell_type": "code",
   "execution_count": 134,
   "metadata": {
    "scrolled": true
   },
   "outputs": [],
   "source": [
    "#Creating new columns based on the date column\n",
    "\n",
    "india_df['year'] = pd.DatetimeIndex(india_df.date).year\n",
    "india_df['month'] = pd.DatetimeIndex(india_df.date).month\n",
    "india_df['day'] = pd.DatetimeIndex(india_df.date).day\n",
    "india_df['weekday'] = pd.DatetimeIndex(india_df.date).weekday"
   ]
  },
  {
   "cell_type": "code",
   "execution_count": 135,
   "metadata": {
    "scrolled": true
   },
   "outputs": [],
   "source": [
    "#Creating a new column for home victory (boolean)\n",
    "india_df['home_win'] = india_df.home_score>india_df.away_score\n",
    "india_df.loc[india_df['home_score'] == india_df['away_score'], 'home_win'] = 'Draw'"
   ]
  },
  {
   "cell_type": "code",
   "execution_count": 29,
   "metadata": {},
   "outputs": [],
   "source": [
    "#Saving our new cleaned dataframe as a csv file\n",
    "india_df.to_csv('./international-football-results-from-1872-to-2017/india_matches.csv', index=None)"
   ]
  },
  {
   "cell_type": "code",
   "execution_count": null,
   "metadata": {},
   "outputs": [],
   "source": [
    "import jovian"
   ]
  },
  {
   "cell_type": "code",
   "execution_count": 32,
   "metadata": {
    "scrolled": true
   },
   "outputs": [
    {
     "data": {
      "application/javascript": [
       "window.require && require([\"base/js/namespace\"],function(Jupyter){Jupyter.notebook.save_checkpoint()})"
      ],
      "text/plain": [
       "<IPython.core.display.Javascript object>"
      ]
     },
     "metadata": {},
     "output_type": "display_data"
    },
    {
     "name": "stdout",
     "output_type": "stream",
     "text": [
      "[jovian] Attempting to save notebook..\u001b[0m\n",
      "[jovian] Updating notebook \"vatsaakhil/zerotopandas-football\" on https://jovian.ai\u001b[0m\n",
      "[jovian] Uploading notebook..\u001b[0m\n",
      "[jovian] Uploading additional files...\u001b[0m\n",
      "[jovian] Committed successfully! https://jovian.ai/vatsaakhil/zerotopandas-football\u001b[0m\n"
     ]
    },
    {
     "data": {
      "text/plain": [
       "'https://jovian.ai/vatsaakhil/zerotopandas-football'"
      ]
     },
     "execution_count": 32,
     "metadata": {},
     "output_type": "execute_result"
    }
   ],
   "source": [
    "jovian.commit(files=['./international-football-results-from-1872-to-2017/india_matches.csv'])"
   ]
  },
  {
   "cell_type": "markdown",
   "metadata": {},
   "source": [
    "## Exploratory Analysis and Visualization\n",
    "\n",
    "**TODO** - We will see some visual trends now\n",
    "\n"
   ]
  },
  {
   "cell_type": "markdown",
   "metadata": {},
   "source": [
    "Let's begin by importing`matplotlib.pyplot` and `seaborn`."
   ]
  },
  {
   "cell_type": "code",
   "execution_count": 33,
   "metadata": {},
   "outputs": [],
   "source": [
    "import seaborn as sns\n",
    "import matplotlib\n",
    "import matplotlib.pyplot as plt\n",
    "%matplotlib inline\n",
    "\n",
    "sns.set_style('darkgrid')\n",
    "matplotlib.rcParams['font.size'] = 10\n",
    "matplotlib.rcParams['figure.figsize'] = (15, 9)\n",
    "matplotlib.rcParams['figure.facecolor'] = '#00000000'"
   ]
  },
  {
   "cell_type": "markdown",
   "metadata": {},
   "source": [
    "**TODO** - We will explore some columns visually"
   ]
  },
  {
   "cell_type": "code",
   "execution_count": 142,
   "metadata": {},
   "outputs": [
    {
     "data": {
      "text/html": [
       "<div>\n",
       "<style scoped>\n",
       "    .dataframe tbody tr th:only-of-type {\n",
       "        vertical-align: middle;\n",
       "    }\n",
       "\n",
       "    .dataframe tbody tr th {\n",
       "        vertical-align: top;\n",
       "    }\n",
       "\n",
       "    .dataframe thead th {\n",
       "        text-align: right;\n",
       "    }\n",
       "</style>\n",
       "<table border=\"1\" class=\"dataframe\">\n",
       "  <thead>\n",
       "    <tr style=\"text-align: right;\">\n",
       "      <th></th>\n",
       "      <th>date</th>\n",
       "      <th>home_team</th>\n",
       "      <th>away_team</th>\n",
       "      <th>home_score</th>\n",
       "      <th>away_score</th>\n",
       "      <th>tournament</th>\n",
       "      <th>city</th>\n",
       "      <th>country</th>\n",
       "      <th>neutral</th>\n",
       "      <th>total_goals</th>\n",
       "      <th>year</th>\n",
       "      <th>month</th>\n",
       "      <th>day</th>\n",
       "      <th>weekday</th>\n",
       "      <th>home_win</th>\n",
       "    </tr>\n",
       "  </thead>\n",
       "  <tbody>\n",
       "    <tr>\n",
       "      <th>3740</th>\n",
       "      <td>1954-12-18</td>\n",
       "      <td>Sri Lanka</td>\n",
       "      <td>Pakistan</td>\n",
       "      <td>1</td>\n",
       "      <td>2</td>\n",
       "      <td>Friendly</td>\n",
       "      <td>Kolkata</td>\n",
       "      <td>India</td>\n",
       "      <td>True</td>\n",
       "      <td>3</td>\n",
       "      <td>1954</td>\n",
       "      <td>12</td>\n",
       "      <td>18</td>\n",
       "      <td>5</td>\n",
       "      <td>False</td>\n",
       "    </tr>\n",
       "    <tr>\n",
       "      <th>3741</th>\n",
       "      <td>1954-12-19</td>\n",
       "      <td>India</td>\n",
       "      <td>Burma</td>\n",
       "      <td>2</td>\n",
       "      <td>1</td>\n",
       "      <td>Friendly</td>\n",
       "      <td>Kolkata</td>\n",
       "      <td>India</td>\n",
       "      <td>False</td>\n",
       "      <td>3</td>\n",
       "      <td>1954</td>\n",
       "      <td>12</td>\n",
       "      <td>19</td>\n",
       "      <td>6</td>\n",
       "      <td>True</td>\n",
       "    </tr>\n",
       "    <tr>\n",
       "      <th>3743</th>\n",
       "      <td>1954-12-21</td>\n",
       "      <td>India</td>\n",
       "      <td>Sri Lanka</td>\n",
       "      <td>1</td>\n",
       "      <td>1</td>\n",
       "      <td>Friendly</td>\n",
       "      <td>Kolkata</td>\n",
       "      <td>India</td>\n",
       "      <td>False</td>\n",
       "      <td>2</td>\n",
       "      <td>1954</td>\n",
       "      <td>12</td>\n",
       "      <td>21</td>\n",
       "      <td>1</td>\n",
       "      <td>Draw</td>\n",
       "    </tr>\n",
       "    <tr>\n",
       "      <th>3744</th>\n",
       "      <td>1954-12-23</td>\n",
       "      <td>Burma</td>\n",
       "      <td>Pakistan</td>\n",
       "      <td>1</td>\n",
       "      <td>1</td>\n",
       "      <td>Friendly</td>\n",
       "      <td>Kolkata</td>\n",
       "      <td>India</td>\n",
       "      <td>True</td>\n",
       "      <td>2</td>\n",
       "      <td>1954</td>\n",
       "      <td>12</td>\n",
       "      <td>23</td>\n",
       "      <td>3</td>\n",
       "      <td>Draw</td>\n",
       "    </tr>\n",
       "    <tr>\n",
       "      <th>3745</th>\n",
       "      <td>1954-12-25</td>\n",
       "      <td>Burma</td>\n",
       "      <td>Sri Lanka</td>\n",
       "      <td>1</td>\n",
       "      <td>2</td>\n",
       "      <td>Friendly</td>\n",
       "      <td>Kolkata</td>\n",
       "      <td>India</td>\n",
       "      <td>True</td>\n",
       "      <td>3</td>\n",
       "      <td>1954</td>\n",
       "      <td>12</td>\n",
       "      <td>25</td>\n",
       "      <td>5</td>\n",
       "      <td>False</td>\n",
       "    </tr>\n",
       "    <tr>\n",
       "      <th>...</th>\n",
       "      <td>...</td>\n",
       "      <td>...</td>\n",
       "      <td>...</td>\n",
       "      <td>...</td>\n",
       "      <td>...</td>\n",
       "      <td>...</td>\n",
       "      <td>...</td>\n",
       "      <td>...</td>\n",
       "      <td>...</td>\n",
       "      <td>...</td>\n",
       "      <td>...</td>\n",
       "      <td>...</td>\n",
       "      <td>...</td>\n",
       "      <td>...</td>\n",
       "      <td>...</td>\n",
       "    </tr>\n",
       "    <tr>\n",
       "      <th>40966</th>\n",
       "      <td>2019-07-15</td>\n",
       "      <td>North Korea</td>\n",
       "      <td>Tajikistan</td>\n",
       "      <td>1</td>\n",
       "      <td>0</td>\n",
       "      <td>Intercontinental Cup</td>\n",
       "      <td>Ahmedabad</td>\n",
       "      <td>India</td>\n",
       "      <td>True</td>\n",
       "      <td>1</td>\n",
       "      <td>2019</td>\n",
       "      <td>7</td>\n",
       "      <td>15</td>\n",
       "      <td>0</td>\n",
       "      <td>True</td>\n",
       "    </tr>\n",
       "    <tr>\n",
       "      <th>40967</th>\n",
       "      <td>2019-07-16</td>\n",
       "      <td>India</td>\n",
       "      <td>Syria</td>\n",
       "      <td>1</td>\n",
       "      <td>1</td>\n",
       "      <td>Intercontinental Cup</td>\n",
       "      <td>Ahmedabad</td>\n",
       "      <td>India</td>\n",
       "      <td>False</td>\n",
       "      <td>2</td>\n",
       "      <td>2019</td>\n",
       "      <td>7</td>\n",
       "      <td>16</td>\n",
       "      <td>1</td>\n",
       "      <td>Draw</td>\n",
       "    </tr>\n",
       "    <tr>\n",
       "      <th>40975</th>\n",
       "      <td>2019-07-19</td>\n",
       "      <td>Tajikistan</td>\n",
       "      <td>North Korea</td>\n",
       "      <td>0</td>\n",
       "      <td>1</td>\n",
       "      <td>Intercontinental Cup</td>\n",
       "      <td>Ahmedabad</td>\n",
       "      <td>India</td>\n",
       "      <td>True</td>\n",
       "      <td>1</td>\n",
       "      <td>2019</td>\n",
       "      <td>7</td>\n",
       "      <td>19</td>\n",
       "      <td>4</td>\n",
       "      <td>False</td>\n",
       "    </tr>\n",
       "    <tr>\n",
       "      <th>41058</th>\n",
       "      <td>2019-09-05</td>\n",
       "      <td>India</td>\n",
       "      <td>Oman</td>\n",
       "      <td>1</td>\n",
       "      <td>2</td>\n",
       "      <td>FIFA World Cup qualification</td>\n",
       "      <td>Guwahati</td>\n",
       "      <td>India</td>\n",
       "      <td>False</td>\n",
       "      <td>3</td>\n",
       "      <td>2019</td>\n",
       "      <td>9</td>\n",
       "      <td>5</td>\n",
       "      <td>3</td>\n",
       "      <td>False</td>\n",
       "    </tr>\n",
       "    <tr>\n",
       "      <th>41371</th>\n",
       "      <td>2019-10-15</td>\n",
       "      <td>India</td>\n",
       "      <td>Bangladesh</td>\n",
       "      <td>1</td>\n",
       "      <td>1</td>\n",
       "      <td>FIFA World Cup qualification</td>\n",
       "      <td>Kolkata</td>\n",
       "      <td>India</td>\n",
       "      <td>False</td>\n",
       "      <td>2</td>\n",
       "      <td>2019</td>\n",
       "      <td>10</td>\n",
       "      <td>15</td>\n",
       "      <td>1</td>\n",
       "      <td>Draw</td>\n",
       "    </tr>\n",
       "  </tbody>\n",
       "</table>\n",
       "<p>255 rows × 15 columns</p>\n",
       "</div>"
      ],
      "text/plain": [
       "             date    home_team    away_team  home_score  away_score  \\\n",
       "3740   1954-12-18    Sri Lanka     Pakistan           1           2   \n",
       "3741   1954-12-19        India        Burma           2           1   \n",
       "3743   1954-12-21        India    Sri Lanka           1           1   \n",
       "3744   1954-12-23        Burma     Pakistan           1           1   \n",
       "3745   1954-12-25        Burma    Sri Lanka           1           2   \n",
       "...           ...          ...          ...         ...         ...   \n",
       "40966  2019-07-15  North Korea   Tajikistan           1           0   \n",
       "40967  2019-07-16        India        Syria           1           1   \n",
       "40975  2019-07-19   Tajikistan  North Korea           0           1   \n",
       "41058  2019-09-05        India         Oman           1           2   \n",
       "41371  2019-10-15        India   Bangladesh           1           1   \n",
       "\n",
       "                         tournament       city country  neutral  total_goals  \\\n",
       "3740                       Friendly    Kolkata   India     True            3   \n",
       "3741                       Friendly    Kolkata   India    False            3   \n",
       "3743                       Friendly    Kolkata   India    False            2   \n",
       "3744                       Friendly    Kolkata   India     True            2   \n",
       "3745                       Friendly    Kolkata   India     True            3   \n",
       "...                             ...        ...     ...      ...          ...   \n",
       "40966          Intercontinental Cup  Ahmedabad   India     True            1   \n",
       "40967          Intercontinental Cup  Ahmedabad   India    False            2   \n",
       "40975          Intercontinental Cup  Ahmedabad   India     True            1   \n",
       "41058  FIFA World Cup qualification   Guwahati   India    False            3   \n",
       "41371  FIFA World Cup qualification    Kolkata   India    False            2   \n",
       "\n",
       "       year  month  day  weekday home_win  \n",
       "3740   1954     12   18        5    False  \n",
       "3741   1954     12   19        6     True  \n",
       "3743   1954     12   21        1     Draw  \n",
       "3744   1954     12   23        3     Draw  \n",
       "3745   1954     12   25        5    False  \n",
       "...     ...    ...  ...      ...      ...  \n",
       "40966  2019      7   15        0     True  \n",
       "40967  2019      7   16        1     Draw  \n",
       "40975  2019      7   19        4    False  \n",
       "41058  2019      9    5        3    False  \n",
       "41371  2019     10   15        1     Draw  \n",
       "\n",
       "[255 rows x 15 columns]"
      ]
     },
     "execution_count": 142,
     "metadata": {},
     "output_type": "execute_result"
    }
   ],
   "source": [
    "india_df"
   ]
  },
  {
   "cell_type": "code",
   "execution_count": 40,
   "metadata": {
    "scrolled": false
   },
   "outputs": [],
   "source": [
    "#Setting date as the index \n",
    "\n",
    "india_df.set_index('date', inplace=True)"
   ]
  },
  {
   "cell_type": "code",
   "execution_count": 145,
   "metadata": {
    "scrolled": false
   },
   "outputs": [
    {
     "data": {
      "image/png": "[encoded data removed]",
      "text/plain": [
       "<Figure size 1080x648 with 1 Axes>"
      ]
     },
     "metadata": {
      "needs_background": "light"
     },
     "output_type": "display_data"
    }
   ],
   "source": [
    "plt.hist(india_df.year,bins=50);\n",
    "\n",
    "#We see missing values for 1960-1980"
   ]
  },
  {
   "cell_type": "markdown",
   "metadata": {},
   "source": [
    "We see a big spike in 1984 when we played around 28 games and a similar spike in 2011, we will check on it"
   ]
  },
  {
   "cell_type": "markdown",
   "metadata": {},
   "source": [
    "**TODO** - Explore one or more columns by plotting a graph below, and add some explanation about it"
   ]
  },
  {
   "cell_type": "code",
   "execution_count": 75,
   "metadata": {
    "scrolled": false
   },
   "outputs": [
    {
     "data": {
      "image/png": "[encoded data removed]",
      "text/plain": [
       "<Figure size 1080x648 with 1 Axes>"
      ]
     },
     "metadata": {
      "needs_background": "light"
     },
     "output_type": "display_data"
    }
   ],
   "source": [
    "plt.hist(india_df.month,bins=50);"
   ]
  },
  {
   "cell_type": "markdown",
   "metadata": {},
   "source": [
    "Most of the matches are played either in January, December or in August"
   ]
  },
  {
   "cell_type": "code",
   "execution_count": 76,
   "metadata": {
    "scrolled": false
   },
   "outputs": [
    {
     "data": {
      "image/png": "[encoded data removed]",
      "text/plain": [
       "<Figure size 1080x648 with 1 Axes>"
      ]
     },
     "metadata": {
      "needs_background": "light"
     },
     "output_type": "display_data"
    }
   ],
   "source": [
    "plt.hist(india_df.weekday,bins=50);"
   ]
  },
  {
   "cell_type": "markdown",
   "metadata": {},
   "source": [
    "We see that most matches are played on weekdays and not on weekends, this can lead to less audience to the stadium"
   ]
  },
  {
   "cell_type": "markdown",
   "metadata": {},
   "source": [
    "**TODO** - Explore one or more columns by plotting a graph below, and add some explanation about it"
   ]
  },
  {
   "cell_type": "code",
   "execution_count": 91,
   "metadata": {},
   "outputs": [
    {
     "data": {
      "text/plain": [
       "True     109\n",
       "False     87\n",
       "Draw      59\n",
       "Name: home_win, dtype: int64"
      ]
     },
     "execution_count": 91,
     "metadata": {},
     "output_type": "execute_result"
    }
   ],
   "source": [
    "india_df.home_win.value_counts()"
   ]
  },
  {
   "cell_type": "code",
   "execution_count": 149,
   "metadata": {
    "scrolled": true
   },
   "outputs": [
    {
     "name": "stdout",
     "output_type": "stream",
     "text": [
      "The home team has an advantage of winning with probability of 0.43.\n"
     ]
    }
   ],
   "source": [
    "print('The home team has an advantage of winning with probability of {:.2f}.'.format(india_df.home_win.value_counts()[0]/india_df.home_win.count()))"
   ]
  },
  {
   "cell_type": "markdown",
   "metadata": {},
   "source": [
    "**TODO** - Explore one or more columns by plotting a graph below, and add some explanation about it"
   ]
  },
  {
   "cell_type": "code",
   "execution_count": 150,
   "metadata": {
    "scrolled": false
   },
   "outputs": [
    {
     "data": {
      "image/png": "[encoded data removed]",
      "text/plain": [
       "<Figure size 1080x648 with 1 Axes>"
      ]
     },
     "metadata": {
      "needs_background": "light"
     },
     "output_type": "display_data"
    }
   ],
   "source": [
    "plt.hist(india_df.city,bins=50);\n",
    "plt.xticks(rotation=90);\n"
   ]
  },
  {
   "cell_type": "markdown",
   "metadata": {},
   "source": [
    "New Delhi and Kolkata have a disproportionate share of football matches"
   ]
  },
  {
   "cell_type": "code",
   "execution_count": 101,
   "metadata": {
    "scrolled": true
   },
   "outputs": [
    {
     "data": {
      "image/png": "[encoded data removed]",
      "text/plain": [
       "<Figure size 1080x648 with 1 Axes>"
      ]
     },
     "metadata": {
      "needs_background": "light"
     },
     "output_type": "display_data"
    }
   ],
   "source": [
    "sns.barplot(x='home_win', y='home_score', data=india_df);"
   ]
  },
  {
   "cell_type": "markdown",
   "metadata": {},
   "source": [
    "The home team scores 2.7 goals on an average to win a match"
   ]
  },
  {
   "cell_type": "markdown",
   "metadata": {},
   "source": [
    "**TODO** - Explore one or more columns by plotting a graph below, and add some explanation about it"
   ]
  },
  {
   "cell_type": "code",
   "execution_count": 103,
   "metadata": {},
   "outputs": [
    {
     "data": {
      "image/png": "[encoded data removed]",
      "text/plain": [
       "<Figure size 1080x648 with 1 Axes>"
      ]
     },
     "metadata": {
      "needs_background": "light"
     },
     "output_type": "display_data"
    }
   ],
   "source": [
    "sns.barplot(x='city', y='home_score', data=india_df,hue='home_win');"
   ]
  },
  {
   "cell_type": "markdown",
   "metadata": {},
   "source": [
    "We observe that Guwahati has most goals scored by the home team\n",
    "Probability of winning a game is most in Kolkata and Thiruvananthapuram (if we exclude outliers Gangtok,Gurgaon)\n"
   ]
  },
  {
   "cell_type": "markdown",
   "metadata": {},
   "source": [
    "Let us save and upload our work to Jovian before continuing"
   ]
  },
  {
   "cell_type": "code",
   "execution_count": 110,
   "metadata": {},
   "outputs": [],
   "source": [
    "import jovian"
   ]
  },
  {
   "cell_type": "code",
   "execution_count": 152,
   "metadata": {},
   "outputs": [
    {
     "data": {
      "application/javascript": [
       "window.require && require([\"base/js/namespace\"],function(Jupyter){Jupyter.notebook.save_checkpoint()})"
      ],
      "text/plain": [
       "<IPython.core.display.Javascript object>"
      ]
     },
     "metadata": {},
     "output_type": "display_data"
    },
    {
     "name": "stdout",
     "output_type": "stream",
     "text": [
      "[jovian] Attempting to save notebook..\u001b[0m\n",
      "[jovian] Updating notebook \"vatsaakhil/zerotopandas-football\" on https://jovian.ai\u001b[0m\n",
      "[jovian] Uploading notebook..\u001b[0m\n",
      "[jovian] Uploading additional files...\u001b[0m\n",
      "[jovian] Committed successfully! https://jovian.ai/vatsaakhil/zerotopandas-football\u001b[0m\n"
     ]
    },
    {
     "data": {
      "text/plain": [
       "'https://jovian.ai/vatsaakhil/zerotopandas-football'"
      ]
     },
     "execution_count": 152,
     "metadata": {},
     "output_type": "execute_result"
    }
   ],
   "source": [
    "jovian.commit()"
   ]
  },
  {
   "cell_type": "markdown",
   "metadata": {},
   "source": [
    "## Asking and Answering Questions\n",
    "\n",
    "TODO - We will answer some more questions\n",
    "\n"
   ]
  },
  {
   "cell_type": "markdown",
   "metadata": {},
   "source": [
    "#### Q1: TODO - The game with highest home score"
   ]
  },
  {
   "cell_type": "code",
   "execution_count": 112,
   "metadata": {
    "scrolled": true
   },
   "outputs": [
    {
     "data": {
      "text/html": [
       "<div>\n",
       "<style scoped>\n",
       "    .dataframe tbody tr th:only-of-type {\n",
       "        vertical-align: middle;\n",
       "    }\n",
       "\n",
       "    .dataframe tbody tr th {\n",
       "        vertical-align: top;\n",
       "    }\n",
       "\n",
       "    .dataframe thead th {\n",
       "        text-align: right;\n",
       "    }\n",
       "</style>\n",
       "<table border=\"1\" class=\"dataframe\">\n",
       "  <thead>\n",
       "    <tr style=\"text-align: right;\">\n",
       "      <th></th>\n",
       "      <th>home_team</th>\n",
       "      <th>away_team</th>\n",
       "      <th>home_score</th>\n",
       "      <th>away_score</th>\n",
       "      <th>tournament</th>\n",
       "      <th>city</th>\n",
       "      <th>country</th>\n",
       "      <th>neutral</th>\n",
       "      <th>total_goals</th>\n",
       "      <th>year</th>\n",
       "      <th>month</th>\n",
       "      <th>day</th>\n",
       "      <th>weekday</th>\n",
       "      <th>home_win</th>\n",
       "    </tr>\n",
       "    <tr>\n",
       "      <th>date</th>\n",
       "      <th></th>\n",
       "      <th></th>\n",
       "      <th></th>\n",
       "      <th></th>\n",
       "      <th></th>\n",
       "      <th></th>\n",
       "      <th></th>\n",
       "      <th></th>\n",
       "      <th></th>\n",
       "      <th></th>\n",
       "      <th></th>\n",
       "      <th></th>\n",
       "      <th></th>\n",
       "      <th></th>\n",
       "    </tr>\n",
       "  </thead>\n",
       "  <tbody>\n",
       "    <tr>\n",
       "      <th>1992-05-11</th>\n",
       "      <td>Iran</td>\n",
       "      <td>Pakistan</td>\n",
       "      <td>7</td>\n",
       "      <td>0</td>\n",
       "      <td>AFC Asian Cup qualification</td>\n",
       "      <td>Kolkata</td>\n",
       "      <td>India</td>\n",
       "      <td>True</td>\n",
       "      <td>7</td>\n",
       "      <td>1992</td>\n",
       "      <td>5</td>\n",
       "      <td>11</td>\n",
       "      <td>0</td>\n",
       "      <td>True</td>\n",
       "    </tr>\n",
       "  </tbody>\n",
       "</table>\n",
       "</div>"
      ],
      "text/plain": [
       "           home_team away_team  home_score  away_score  \\\n",
       "date                                                     \n",
       "1992-05-11      Iran  Pakistan           7           0   \n",
       "\n",
       "                             tournament     city country  neutral  \\\n",
       "date                                                                \n",
       "1992-05-11  AFC Asian Cup qualification  Kolkata   India     True   \n",
       "\n",
       "            total_goals  year  month  day  weekday home_win  \n",
       "date                                                         \n",
       "1992-05-11            7  1992      5   11        0     True  "
      ]
     },
     "execution_count": 112,
     "metadata": {},
     "output_type": "execute_result"
    }
   ],
   "source": [
    "india_df.loc[india_df[['home_score']].idxmax()]"
   ]
  },
  {
   "cell_type": "markdown",
   "metadata": {},
   "source": [
    "Iran beat Pakistan 7-0 in 1992"
   ]
  },
  {
   "cell_type": "markdown",
   "metadata": {},
   "source": [
    "#### Q2: TODO - The game with highest away score"
   ]
  },
  {
   "cell_type": "code",
   "execution_count": 153,
   "metadata": {},
   "outputs": [
    {
     "data": {
      "text/html": [
       "<div>\n",
       "<style scoped>\n",
       "    .dataframe tbody tr th:only-of-type {\n",
       "        vertical-align: middle;\n",
       "    }\n",
       "\n",
       "    .dataframe tbody tr th {\n",
       "        vertical-align: top;\n",
       "    }\n",
       "\n",
       "    .dataframe thead th {\n",
       "        text-align: right;\n",
       "    }\n",
       "</style>\n",
       "<table border=\"1\" class=\"dataframe\">\n",
       "  <thead>\n",
       "    <tr style=\"text-align: right;\">\n",
       "      <th></th>\n",
       "      <th>date</th>\n",
       "      <th>home_team</th>\n",
       "      <th>away_team</th>\n",
       "      <th>home_score</th>\n",
       "      <th>away_score</th>\n",
       "      <th>tournament</th>\n",
       "      <th>city</th>\n",
       "      <th>country</th>\n",
       "      <th>neutral</th>\n",
       "      <th>total_goals</th>\n",
       "      <th>year</th>\n",
       "      <th>month</th>\n",
       "      <th>day</th>\n",
       "      <th>weekday</th>\n",
       "      <th>home_win</th>\n",
       "    </tr>\n",
       "  </thead>\n",
       "  <tbody>\n",
       "    <tr>\n",
       "      <th>33799</th>\n",
       "      <td>2011-12-07</td>\n",
       "      <td>Bhutan</td>\n",
       "      <td>Afghanistan</td>\n",
       "      <td>1</td>\n",
       "      <td>8</td>\n",
       "      <td>SAFF Cup</td>\n",
       "      <td>New Delhi</td>\n",
       "      <td>India</td>\n",
       "      <td>True</td>\n",
       "      <td>9</td>\n",
       "      <td>2011</td>\n",
       "      <td>12</td>\n",
       "      <td>7</td>\n",
       "      <td>2</td>\n",
       "      <td>False</td>\n",
       "    </tr>\n",
       "  </tbody>\n",
       "</table>\n",
       "</div>"
      ],
      "text/plain": [
       "             date home_team    away_team  home_score  away_score tournament  \\\n",
       "33799  2011-12-07    Bhutan  Afghanistan           1           8   SAFF Cup   \n",
       "\n",
       "            city country  neutral  total_goals  year  month  day  weekday  \\\n",
       "33799  New Delhi   India     True            9  2011     12    7        2   \n",
       "\n",
       "      home_win  \n",
       "33799    False  "
      ]
     },
     "execution_count": 153,
     "metadata": {},
     "output_type": "execute_result"
    }
   ],
   "source": [
    "india_df.loc[india_df[['away_score']].idxmax()]"
   ]
  },
  {
   "cell_type": "markdown",
   "metadata": {},
   "source": [
    "Afghanistan beat Bhutan 8-1 in 2011"
   ]
  },
  {
   "cell_type": "markdown",
   "metadata": {},
   "source": [
    "#### Q3: TODO - Game with most goals"
   ]
  },
  {
   "cell_type": "code",
   "execution_count": 154,
   "metadata": {},
   "outputs": [
    {
     "data": {
      "text/html": [
       "<div>\n",
       "<style scoped>\n",
       "    .dataframe tbody tr th:only-of-type {\n",
       "        vertical-align: middle;\n",
       "    }\n",
       "\n",
       "    .dataframe tbody tr th {\n",
       "        vertical-align: top;\n",
       "    }\n",
       "\n",
       "    .dataframe thead th {\n",
       "        text-align: right;\n",
       "    }\n",
       "</style>\n",
       "<table border=\"1\" class=\"dataframe\">\n",
       "  <thead>\n",
       "    <tr style=\"text-align: right;\">\n",
       "      <th></th>\n",
       "      <th>date</th>\n",
       "      <th>home_team</th>\n",
       "      <th>away_team</th>\n",
       "      <th>home_score</th>\n",
       "      <th>away_score</th>\n",
       "      <th>tournament</th>\n",
       "      <th>city</th>\n",
       "      <th>country</th>\n",
       "      <th>neutral</th>\n",
       "      <th>total_goals</th>\n",
       "      <th>year</th>\n",
       "      <th>month</th>\n",
       "      <th>day</th>\n",
       "      <th>weekday</th>\n",
       "      <th>home_win</th>\n",
       "    </tr>\n",
       "  </thead>\n",
       "  <tbody>\n",
       "    <tr>\n",
       "      <th>32547</th>\n",
       "      <td>2010-10-13</td>\n",
       "      <td>India</td>\n",
       "      <td>Yemen</td>\n",
       "      <td>3</td>\n",
       "      <td>6</td>\n",
       "      <td>Friendly</td>\n",
       "      <td>Pune</td>\n",
       "      <td>India</td>\n",
       "      <td>False</td>\n",
       "      <td>9</td>\n",
       "      <td>2010</td>\n",
       "      <td>10</td>\n",
       "      <td>13</td>\n",
       "      <td>2</td>\n",
       "      <td>False</td>\n",
       "    </tr>\n",
       "  </tbody>\n",
       "</table>\n",
       "</div>"
      ],
      "text/plain": [
       "             date home_team away_team  home_score  away_score tournament  \\\n",
       "32547  2010-10-13     India     Yemen           3           6   Friendly   \n",
       "\n",
       "       city country  neutral  total_goals  year  month  day  weekday home_win  \n",
       "32547  Pune   India    False            9  2010     10   13        2    False  "
      ]
     },
     "execution_count": 154,
     "metadata": {},
     "output_type": "execute_result"
    }
   ],
   "source": [
    "india_df.loc[india_df[['total_goals']].idxmax()]"
   ]
  },
  {
   "cell_type": "markdown",
   "metadata": {},
   "source": [
    "Yemen beat India 6-3 in 2010"
   ]
  },
  {
   "cell_type": "markdown",
   "metadata": {},
   "source": [
    "#### Q4: TODO - Relation between pairs of columns"
   ]
  },
  {
   "cell_type": "code",
   "execution_count": 155,
   "metadata": {
    "scrolled": true
   },
   "outputs": [
    {
     "data": {
      "image/png": "[encoded data removed]",
      "text/plain": [
       "<Figure size 962.125x900 with 30 Axes>"
      ]
     },
     "metadata": {
      "needs_background": "light"
     },
     "output_type": "display_data"
    }
   ],
   "source": [
    "sns.pairplot(india_df, hue='home_win', x_vars=[\"home_score\", \"away_score\", \"total_goals\",\"month\",\"weekday\"],\n",
    "    y_vars=[\"home_score\", \"away_score\", \"total_goals\",\"month\",\"weekday\"]);"
   ]
  },
  {
   "cell_type": "markdown",
   "metadata": {},
   "source": [
    "#### Q5: TODO - Unusally high number of matches in 1984 and 2011?"
   ]
  },
  {
   "cell_type": "code",
   "execution_count": 157,
   "metadata": {
    "scrolled": true
   },
   "outputs": [
    {
     "data": {
      "text/html": [
       "<div>\n",
       "<style scoped>\n",
       "    .dataframe tbody tr th:only-of-type {\n",
       "        vertical-align: middle;\n",
       "    }\n",
       "\n",
       "    .dataframe tbody tr th {\n",
       "        vertical-align: top;\n",
       "    }\n",
       "\n",
       "    .dataframe thead th {\n",
       "        text-align: right;\n",
       "    }\n",
       "</style>\n",
       "<table border=\"1\" class=\"dataframe\">\n",
       "  <thead>\n",
       "    <tr style=\"text-align: right;\">\n",
       "      <th></th>\n",
       "      <th>date</th>\n",
       "      <th>home_team</th>\n",
       "      <th>away_team</th>\n",
       "      <th>home_score</th>\n",
       "      <th>away_score</th>\n",
       "      <th>tournament</th>\n",
       "      <th>city</th>\n",
       "      <th>country</th>\n",
       "      <th>neutral</th>\n",
       "      <th>total_goals</th>\n",
       "      <th>year</th>\n",
       "      <th>month</th>\n",
       "      <th>day</th>\n",
       "      <th>weekday</th>\n",
       "      <th>home_win</th>\n",
       "    </tr>\n",
       "  </thead>\n",
       "  <tbody>\n",
       "    <tr>\n",
       "      <th>12918</th>\n",
       "      <td>1984-01-11</td>\n",
       "      <td>India</td>\n",
       "      <td>Poland</td>\n",
       "      <td>1</td>\n",
       "      <td>2</td>\n",
       "      <td>Nehru Cup</td>\n",
       "      <td>Kolkata</td>\n",
       "      <td>India</td>\n",
       "      <td>False</td>\n",
       "      <td>3</td>\n",
       "      <td>1984</td>\n",
       "      <td>1</td>\n",
       "      <td>11</td>\n",
       "      <td>2</td>\n",
       "      <td>False</td>\n",
       "    </tr>\n",
       "    <tr>\n",
       "      <th>12919</th>\n",
       "      <td>1984-01-14</td>\n",
       "      <td>India</td>\n",
       "      <td>Argentina</td>\n",
       "      <td>0</td>\n",
       "      <td>1</td>\n",
       "      <td>Nehru Cup</td>\n",
       "      <td>Kolkata</td>\n",
       "      <td>India</td>\n",
       "      <td>False</td>\n",
       "      <td>1</td>\n",
       "      <td>1984</td>\n",
       "      <td>1</td>\n",
       "      <td>14</td>\n",
       "      <td>5</td>\n",
       "      <td>False</td>\n",
       "    </tr>\n",
       "    <tr>\n",
       "      <th>12920</th>\n",
       "      <td>1984-01-15</td>\n",
       "      <td>China PR</td>\n",
       "      <td>Poland</td>\n",
       "      <td>0</td>\n",
       "      <td>1</td>\n",
       "      <td>Nehru Cup</td>\n",
       "      <td>Kolkata</td>\n",
       "      <td>India</td>\n",
       "      <td>True</td>\n",
       "      <td>1</td>\n",
       "      <td>1984</td>\n",
       "      <td>1</td>\n",
       "      <td>15</td>\n",
       "      <td>6</td>\n",
       "      <td>False</td>\n",
       "    </tr>\n",
       "    <tr>\n",
       "      <th>12922</th>\n",
       "      <td>1984-01-17</td>\n",
       "      <td>Argentina</td>\n",
       "      <td>Poland</td>\n",
       "      <td>1</td>\n",
       "      <td>1</td>\n",
       "      <td>Nehru Cup</td>\n",
       "      <td>Kolkata</td>\n",
       "      <td>India</td>\n",
       "      <td>True</td>\n",
       "      <td>2</td>\n",
       "      <td>1984</td>\n",
       "      <td>1</td>\n",
       "      <td>17</td>\n",
       "      <td>1</td>\n",
       "      <td>Draw</td>\n",
       "    </tr>\n",
       "    <tr>\n",
       "      <th>12926</th>\n",
       "      <td>1984-01-20</td>\n",
       "      <td>Argentina</td>\n",
       "      <td>China PR</td>\n",
       "      <td>0</td>\n",
       "      <td>1</td>\n",
       "      <td>Nehru Cup</td>\n",
       "      <td>Kolkata</td>\n",
       "      <td>India</td>\n",
       "      <td>True</td>\n",
       "      <td>1</td>\n",
       "      <td>1984</td>\n",
       "      <td>1</td>\n",
       "      <td>20</td>\n",
       "      <td>4</td>\n",
       "      <td>False</td>\n",
       "    </tr>\n",
       "    <tr>\n",
       "      <th>12930</th>\n",
       "      <td>1984-01-25</td>\n",
       "      <td>India</td>\n",
       "      <td>China PR</td>\n",
       "      <td>0</td>\n",
       "      <td>3</td>\n",
       "      <td>Nehru Cup</td>\n",
       "      <td>Kolkata</td>\n",
       "      <td>India</td>\n",
       "      <td>False</td>\n",
       "      <td>3</td>\n",
       "      <td>1984</td>\n",
       "      <td>1</td>\n",
       "      <td>25</td>\n",
       "      <td>2</td>\n",
       "      <td>False</td>\n",
       "    </tr>\n",
       "    <tr>\n",
       "      <th>12931</th>\n",
       "      <td>1984-01-27</td>\n",
       "      <td>China PR</td>\n",
       "      <td>Poland</td>\n",
       "      <td>0</td>\n",
       "      <td>1</td>\n",
       "      <td>Nehru Cup</td>\n",
       "      <td>Kolkata</td>\n",
       "      <td>India</td>\n",
       "      <td>True</td>\n",
       "      <td>1</td>\n",
       "      <td>1984</td>\n",
       "      <td>1</td>\n",
       "      <td>27</td>\n",
       "      <td>4</td>\n",
       "      <td>False</td>\n",
       "    </tr>\n",
       "    <tr>\n",
       "      <th>13258</th>\n",
       "      <td>1984-10-10</td>\n",
       "      <td>South Korea</td>\n",
       "      <td>Yemen</td>\n",
       "      <td>6</td>\n",
       "      <td>0</td>\n",
       "      <td>AFC Asian Cup qualification</td>\n",
       "      <td>Kolkata</td>\n",
       "      <td>India</td>\n",
       "      <td>True</td>\n",
       "      <td>6</td>\n",
       "      <td>1984</td>\n",
       "      <td>10</td>\n",
       "      <td>10</td>\n",
       "      <td>2</td>\n",
       "      <td>True</td>\n",
       "    </tr>\n",
       "    <tr>\n",
       "      <th>13263</th>\n",
       "      <td>1984-10-11</td>\n",
       "      <td>Malaysia</td>\n",
       "      <td>Pakistan</td>\n",
       "      <td>5</td>\n",
       "      <td>0</td>\n",
       "      <td>AFC Asian Cup qualification</td>\n",
       "      <td>Kolkata</td>\n",
       "      <td>India</td>\n",
       "      <td>True</td>\n",
       "      <td>5</td>\n",
       "      <td>1984</td>\n",
       "      <td>10</td>\n",
       "      <td>11</td>\n",
       "      <td>3</td>\n",
       "      <td>True</td>\n",
       "    </tr>\n",
       "    <tr>\n",
       "      <th>13265</th>\n",
       "      <td>1984-10-12</td>\n",
       "      <td>India</td>\n",
       "      <td>Yemen</td>\n",
       "      <td>4</td>\n",
       "      <td>0</td>\n",
       "      <td>AFC Asian Cup qualification</td>\n",
       "      <td>Kolkata</td>\n",
       "      <td>India</td>\n",
       "      <td>False</td>\n",
       "      <td>4</td>\n",
       "      <td>1984</td>\n",
       "      <td>10</td>\n",
       "      <td>12</td>\n",
       "      <td>4</td>\n",
       "      <td>True</td>\n",
       "    </tr>\n",
       "    <tr>\n",
       "      <th>13267</th>\n",
       "      <td>1984-10-13</td>\n",
       "      <td>South Korea</td>\n",
       "      <td>Pakistan</td>\n",
       "      <td>6</td>\n",
       "      <td>0</td>\n",
       "      <td>AFC Asian Cup qualification</td>\n",
       "      <td>Kolkata</td>\n",
       "      <td>India</td>\n",
       "      <td>True</td>\n",
       "      <td>6</td>\n",
       "      <td>1984</td>\n",
       "      <td>10</td>\n",
       "      <td>13</td>\n",
       "      <td>5</td>\n",
       "      <td>True</td>\n",
       "    </tr>\n",
       "    <tr>\n",
       "      <th>13271</th>\n",
       "      <td>1984-10-14</td>\n",
       "      <td>India</td>\n",
       "      <td>Malaysia</td>\n",
       "      <td>2</td>\n",
       "      <td>1</td>\n",
       "      <td>AFC Asian Cup qualification</td>\n",
       "      <td>Kolkata</td>\n",
       "      <td>India</td>\n",
       "      <td>False</td>\n",
       "      <td>3</td>\n",
       "      <td>1984</td>\n",
       "      <td>10</td>\n",
       "      <td>14</td>\n",
       "      <td>6</td>\n",
       "      <td>True</td>\n",
       "    </tr>\n",
       "    <tr>\n",
       "      <th>13275</th>\n",
       "      <td>1984-10-15</td>\n",
       "      <td>Pakistan</td>\n",
       "      <td>Yemen</td>\n",
       "      <td>4</td>\n",
       "      <td>1</td>\n",
       "      <td>AFC Asian Cup qualification</td>\n",
       "      <td>Kolkata</td>\n",
       "      <td>India</td>\n",
       "      <td>True</td>\n",
       "      <td>5</td>\n",
       "      <td>1984</td>\n",
       "      <td>10</td>\n",
       "      <td>15</td>\n",
       "      <td>0</td>\n",
       "      <td>True</td>\n",
       "    </tr>\n",
       "    <tr>\n",
       "      <th>13277</th>\n",
       "      <td>1984-10-16</td>\n",
       "      <td>South Korea</td>\n",
       "      <td>Malaysia</td>\n",
       "      <td>0</td>\n",
       "      <td>0</td>\n",
       "      <td>AFC Asian Cup qualification</td>\n",
       "      <td>Kolkata</td>\n",
       "      <td>India</td>\n",
       "      <td>True</td>\n",
       "      <td>0</td>\n",
       "      <td>1984</td>\n",
       "      <td>10</td>\n",
       "      <td>16</td>\n",
       "      <td>1</td>\n",
       "      <td>Draw</td>\n",
       "    </tr>\n",
       "    <tr>\n",
       "      <th>13283</th>\n",
       "      <td>1984-10-17</td>\n",
       "      <td>India</td>\n",
       "      <td>Pakistan</td>\n",
       "      <td>2</td>\n",
       "      <td>0</td>\n",
       "      <td>AFC Asian Cup qualification</td>\n",
       "      <td>Kolkata</td>\n",
       "      <td>India</td>\n",
       "      <td>False</td>\n",
       "      <td>2</td>\n",
       "      <td>1984</td>\n",
       "      <td>10</td>\n",
       "      <td>17</td>\n",
       "      <td>2</td>\n",
       "      <td>True</td>\n",
       "    </tr>\n",
       "    <tr>\n",
       "      <th>13292</th>\n",
       "      <td>1984-10-18</td>\n",
       "      <td>Malaysia</td>\n",
       "      <td>Yemen</td>\n",
       "      <td>4</td>\n",
       "      <td>1</td>\n",
       "      <td>AFC Asian Cup qualification</td>\n",
       "      <td>Kolkata</td>\n",
       "      <td>India</td>\n",
       "      <td>True</td>\n",
       "      <td>5</td>\n",
       "      <td>1984</td>\n",
       "      <td>10</td>\n",
       "      <td>18</td>\n",
       "      <td>3</td>\n",
       "      <td>True</td>\n",
       "    </tr>\n",
       "    <tr>\n",
       "      <th>13293</th>\n",
       "      <td>1984-10-19</td>\n",
       "      <td>India</td>\n",
       "      <td>South Korea</td>\n",
       "      <td>0</td>\n",
       "      <td>1</td>\n",
       "      <td>AFC Asian Cup qualification</td>\n",
       "      <td>Kolkata</td>\n",
       "      <td>India</td>\n",
       "      <td>False</td>\n",
       "      <td>1</td>\n",
       "      <td>1984</td>\n",
       "      <td>10</td>\n",
       "      <td>19</td>\n",
       "      <td>4</td>\n",
       "      <td>False</td>\n",
       "    </tr>\n",
       "  </tbody>\n",
       "</table>\n",
       "</div>"
      ],
      "text/plain": [
       "             date    home_team    away_team  home_score  away_score  \\\n",
       "12918  1984-01-11        India       Poland           1           2   \n",
       "12919  1984-01-14        India    Argentina           0           1   \n",
       "12920  1984-01-15     China PR       Poland           0           1   \n",
       "12922  1984-01-17    Argentina       Poland           1           1   \n",
       "12926  1984-01-20    Argentina     China PR           0           1   \n",
       "12930  1984-01-25        India     China PR           0           3   \n",
       "12931  1984-01-27     China PR       Poland           0           1   \n",
       "13258  1984-10-10  South Korea        Yemen           6           0   \n",
       "13263  1984-10-11     Malaysia     Pakistan           5           0   \n",
       "13265  1984-10-12        India        Yemen           4           0   \n",
       "13267  1984-10-13  South Korea     Pakistan           6           0   \n",
       "13271  1984-10-14        India     Malaysia           2           1   \n",
       "13275  1984-10-15     Pakistan        Yemen           4           1   \n",
       "13277  1984-10-16  South Korea     Malaysia           0           0   \n",
       "13283  1984-10-17        India     Pakistan           2           0   \n",
       "13292  1984-10-18     Malaysia        Yemen           4           1   \n",
       "13293  1984-10-19        India  South Korea           0           1   \n",
       "\n",
       "                        tournament     city country  neutral  total_goals  \\\n",
       "12918                    Nehru Cup  Kolkata   India    False            3   \n",
       "12919                    Nehru Cup  Kolkata   India    False            1   \n",
       "12920                    Nehru Cup  Kolkata   India     True            1   \n",
       "12922                    Nehru Cup  Kolkata   India     True            2   \n",
       "12926                    Nehru Cup  Kolkata   India     True            1   \n",
       "12930                    Nehru Cup  Kolkata   India    False            3   \n",
       "12931                    Nehru Cup  Kolkata   India     True            1   \n",
       "13258  AFC Asian Cup qualification  Kolkata   India     True            6   \n",
       "13263  AFC Asian Cup qualification  Kolkata   India     True            5   \n",
       "13265  AFC Asian Cup qualification  Kolkata   India    False            4   \n",
       "13267  AFC Asian Cup qualification  Kolkata   India     True            6   \n",
       "13271  AFC Asian Cup qualification  Kolkata   India    False            3   \n",
       "13275  AFC Asian Cup qualification  Kolkata   India     True            5   \n",
       "13277  AFC Asian Cup qualification  Kolkata   India     True            0   \n",
       "13283  AFC Asian Cup qualification  Kolkata   India    False            2   \n",
       "13292  AFC Asian Cup qualification  Kolkata   India     True            5   \n",
       "13293  AFC Asian Cup qualification  Kolkata   India    False            1   \n",
       "\n",
       "       year  month  day  weekday home_win  \n",
       "12918  1984      1   11        2    False  \n",
       "12919  1984      1   14        5    False  \n",
       "12920  1984      1   15        6    False  \n",
       "12922  1984      1   17        1     Draw  \n",
       "12926  1984      1   20        4    False  \n",
       "12930  1984      1   25        2    False  \n",
       "12931  1984      1   27        4    False  \n",
       "13258  1984     10   10        2     True  \n",
       "13263  1984     10   11        3     True  \n",
       "13265  1984     10   12        4     True  \n",
       "13267  1984     10   13        5     True  \n",
       "13271  1984     10   14        6     True  \n",
       "13275  1984     10   15        0     True  \n",
       "13277  1984     10   16        1     Draw  \n",
       "13283  1984     10   17        2     True  \n",
       "13292  1984     10   18        3     True  \n",
       "13293  1984     10   19        4    False  "
      ]
     },
     "execution_count": 157,
     "metadata": {},
     "output_type": "execute_result"
    }
   ],
   "source": [
    "india_df[india_df.year==1984]"
   ]
  },
  {
   "cell_type": "markdown",
   "metadata": {},
   "source": [
    "We had Nehru Cup and Asian Cup qualification games"
   ]
  },
  {
   "cell_type": "code",
   "execution_count": 158,
   "metadata": {
    "scrolled": true
   },
   "outputs": [
    {
     "data": {
      "text/html": [
       "<div>\n",
       "<style scoped>\n",
       "    .dataframe tbody tr th:only-of-type {\n",
       "        vertical-align: middle;\n",
       "    }\n",
       "\n",
       "    .dataframe tbody tr th {\n",
       "        vertical-align: top;\n",
       "    }\n",
       "\n",
       "    .dataframe thead th {\n",
       "        text-align: right;\n",
       "    }\n",
       "</style>\n",
       "<table border=\"1\" class=\"dataframe\">\n",
       "  <thead>\n",
       "    <tr style=\"text-align: right;\">\n",
       "      <th></th>\n",
       "      <th>date</th>\n",
       "      <th>home_team</th>\n",
       "      <th>away_team</th>\n",
       "      <th>home_score</th>\n",
       "      <th>away_score</th>\n",
       "      <th>tournament</th>\n",
       "      <th>city</th>\n",
       "      <th>country</th>\n",
       "      <th>neutral</th>\n",
       "      <th>total_goals</th>\n",
       "      <th>year</th>\n",
       "      <th>month</th>\n",
       "      <th>day</th>\n",
       "      <th>weekday</th>\n",
       "      <th>home_win</th>\n",
       "    </tr>\n",
       "  </thead>\n",
       "  <tbody>\n",
       "    <tr>\n",
       "      <th>32870</th>\n",
       "      <td>2011-03-23</td>\n",
       "      <td>Bhutan</td>\n",
       "      <td>Afghanistan</td>\n",
       "      <td>0</td>\n",
       "      <td>3</td>\n",
       "      <td>AFC Challenge Cup qualification</td>\n",
       "      <td>Gurgaon</td>\n",
       "      <td>India</td>\n",
       "      <td>True</td>\n",
       "      <td>3</td>\n",
       "      <td>2011</td>\n",
       "      <td>3</td>\n",
       "      <td>23</td>\n",
       "      <td>2</td>\n",
       "      <td>False</td>\n",
       "    </tr>\n",
       "    <tr>\n",
       "      <th>32877</th>\n",
       "      <td>2011-03-25</td>\n",
       "      <td>Afghanistan</td>\n",
       "      <td>Bhutan</td>\n",
       "      <td>2</td>\n",
       "      <td>0</td>\n",
       "      <td>AFC Challenge Cup qualification</td>\n",
       "      <td>Gurgaon</td>\n",
       "      <td>India</td>\n",
       "      <td>True</td>\n",
       "      <td>2</td>\n",
       "      <td>2011</td>\n",
       "      <td>3</td>\n",
       "      <td>25</td>\n",
       "      <td>4</td>\n",
       "      <td>True</td>\n",
       "    </tr>\n",
       "    <tr>\n",
       "      <th>33247</th>\n",
       "      <td>2011-07-28</td>\n",
       "      <td>India</td>\n",
       "      <td>United Arab Emirates</td>\n",
       "      <td>2</td>\n",
       "      <td>2</td>\n",
       "      <td>FIFA World Cup qualification</td>\n",
       "      <td>New Delhi</td>\n",
       "      <td>India</td>\n",
       "      <td>False</td>\n",
       "      <td>4</td>\n",
       "      <td>2011</td>\n",
       "      <td>7</td>\n",
       "      <td>28</td>\n",
       "      <td>3</td>\n",
       "      <td>Draw</td>\n",
       "    </tr>\n",
       "    <tr>\n",
       "      <th>33349</th>\n",
       "      <td>2011-09-02</td>\n",
       "      <td>Argentina</td>\n",
       "      <td>Venezuela</td>\n",
       "      <td>1</td>\n",
       "      <td>0</td>\n",
       "      <td>Friendly</td>\n",
       "      <td>Kolkata</td>\n",
       "      <td>India</td>\n",
       "      <td>True</td>\n",
       "      <td>1</td>\n",
       "      <td>2011</td>\n",
       "      <td>9</td>\n",
       "      <td>2</td>\n",
       "      <td>4</td>\n",
       "      <td>True</td>\n",
       "    </tr>\n",
       "    <tr>\n",
       "      <th>33690</th>\n",
       "      <td>2011-11-13</td>\n",
       "      <td>India</td>\n",
       "      <td>Malaysia</td>\n",
       "      <td>1</td>\n",
       "      <td>1</td>\n",
       "      <td>Friendly</td>\n",
       "      <td>Guwahati</td>\n",
       "      <td>India</td>\n",
       "      <td>False</td>\n",
       "      <td>2</td>\n",
       "      <td>2011</td>\n",
       "      <td>11</td>\n",
       "      <td>13</td>\n",
       "      <td>6</td>\n",
       "      <td>Draw</td>\n",
       "    </tr>\n",
       "    <tr>\n",
       "      <th>33752</th>\n",
       "      <td>2011-11-16</td>\n",
       "      <td>India</td>\n",
       "      <td>Malaysia</td>\n",
       "      <td>3</td>\n",
       "      <td>2</td>\n",
       "      <td>Friendly</td>\n",
       "      <td>Kolkata</td>\n",
       "      <td>India</td>\n",
       "      <td>False</td>\n",
       "      <td>5</td>\n",
       "      <td>2011</td>\n",
       "      <td>11</td>\n",
       "      <td>16</td>\n",
       "      <td>2</td>\n",
       "      <td>True</td>\n",
       "    </tr>\n",
       "    <tr>\n",
       "      <th>33769</th>\n",
       "      <td>2011-11-29</td>\n",
       "      <td>India</td>\n",
       "      <td>Zambia</td>\n",
       "      <td>0</td>\n",
       "      <td>5</td>\n",
       "      <td>Friendly</td>\n",
       "      <td>Margao</td>\n",
       "      <td>India</td>\n",
       "      <td>False</td>\n",
       "      <td>5</td>\n",
       "      <td>2011</td>\n",
       "      <td>11</td>\n",
       "      <td>29</td>\n",
       "      <td>1</td>\n",
       "      <td>False</td>\n",
       "    </tr>\n",
       "    <tr>\n",
       "      <th>33776</th>\n",
       "      <td>2011-12-02</td>\n",
       "      <td>Bangladesh</td>\n",
       "      <td>Pakistan</td>\n",
       "      <td>0</td>\n",
       "      <td>0</td>\n",
       "      <td>SAFF Cup</td>\n",
       "      <td>New Delhi</td>\n",
       "      <td>India</td>\n",
       "      <td>True</td>\n",
       "      <td>0</td>\n",
       "      <td>2011</td>\n",
       "      <td>12</td>\n",
       "      <td>2</td>\n",
       "      <td>4</td>\n",
       "      <td>Draw</td>\n",
       "    </tr>\n",
       "    <tr>\n",
       "      <th>33779</th>\n",
       "      <td>2011-12-02</td>\n",
       "      <td>Maldives</td>\n",
       "      <td>Nepal</td>\n",
       "      <td>1</td>\n",
       "      <td>1</td>\n",
       "      <td>SAFF Cup</td>\n",
       "      <td>New Delhi</td>\n",
       "      <td>India</td>\n",
       "      <td>True</td>\n",
       "      <td>2</td>\n",
       "      <td>2011</td>\n",
       "      <td>12</td>\n",
       "      <td>2</td>\n",
       "      <td>4</td>\n",
       "      <td>Draw</td>\n",
       "    </tr>\n",
       "    <tr>\n",
       "      <th>33782</th>\n",
       "      <td>2011-12-03</td>\n",
       "      <td>India</td>\n",
       "      <td>Afghanistan</td>\n",
       "      <td>1</td>\n",
       "      <td>1</td>\n",
       "      <td>SAFF Cup</td>\n",
       "      <td>New Delhi</td>\n",
       "      <td>India</td>\n",
       "      <td>False</td>\n",
       "      <td>2</td>\n",
       "      <td>2011</td>\n",
       "      <td>12</td>\n",
       "      <td>3</td>\n",
       "      <td>5</td>\n",
       "      <td>Draw</td>\n",
       "    </tr>\n",
       "    <tr>\n",
       "      <th>33784</th>\n",
       "      <td>2011-12-03</td>\n",
       "      <td>Sri Lanka</td>\n",
       "      <td>Bhutan</td>\n",
       "      <td>3</td>\n",
       "      <td>0</td>\n",
       "      <td>SAFF Cup</td>\n",
       "      <td>New Delhi</td>\n",
       "      <td>India</td>\n",
       "      <td>True</td>\n",
       "      <td>3</td>\n",
       "      <td>2011</td>\n",
       "      <td>12</td>\n",
       "      <td>3</td>\n",
       "      <td>5</td>\n",
       "      <td>True</td>\n",
       "    </tr>\n",
       "    <tr>\n",
       "      <th>33786</th>\n",
       "      <td>2011-12-04</td>\n",
       "      <td>Bangladesh</td>\n",
       "      <td>Nepal</td>\n",
       "      <td>0</td>\n",
       "      <td>1</td>\n",
       "      <td>SAFF Cup</td>\n",
       "      <td>New Delhi</td>\n",
       "      <td>India</td>\n",
       "      <td>True</td>\n",
       "      <td>1</td>\n",
       "      <td>2011</td>\n",
       "      <td>12</td>\n",
       "      <td>4</td>\n",
       "      <td>6</td>\n",
       "      <td>False</td>\n",
       "    </tr>\n",
       "    <tr>\n",
       "      <th>33788</th>\n",
       "      <td>2011-12-04</td>\n",
       "      <td>Maldives</td>\n",
       "      <td>Pakistan</td>\n",
       "      <td>0</td>\n",
       "      <td>0</td>\n",
       "      <td>SAFF Cup</td>\n",
       "      <td>New Delhi</td>\n",
       "      <td>India</td>\n",
       "      <td>True</td>\n",
       "      <td>0</td>\n",
       "      <td>2011</td>\n",
       "      <td>12</td>\n",
       "      <td>4</td>\n",
       "      <td>6</td>\n",
       "      <td>Draw</td>\n",
       "    </tr>\n",
       "    <tr>\n",
       "      <th>33791</th>\n",
       "      <td>2011-12-05</td>\n",
       "      <td>India</td>\n",
       "      <td>Bhutan</td>\n",
       "      <td>5</td>\n",
       "      <td>0</td>\n",
       "      <td>SAFF Cup</td>\n",
       "      <td>New Delhi</td>\n",
       "      <td>India</td>\n",
       "      <td>False</td>\n",
       "      <td>5</td>\n",
       "      <td>2011</td>\n",
       "      <td>12</td>\n",
       "      <td>5</td>\n",
       "      <td>0</td>\n",
       "      <td>True</td>\n",
       "    </tr>\n",
       "    <tr>\n",
       "      <th>33793</th>\n",
       "      <td>2011-12-05</td>\n",
       "      <td>Sri Lanka</td>\n",
       "      <td>Afghanistan</td>\n",
       "      <td>1</td>\n",
       "      <td>3</td>\n",
       "      <td>SAFF Cup</td>\n",
       "      <td>New Delhi</td>\n",
       "      <td>India</td>\n",
       "      <td>True</td>\n",
       "      <td>4</td>\n",
       "      <td>2011</td>\n",
       "      <td>12</td>\n",
       "      <td>5</td>\n",
       "      <td>0</td>\n",
       "      <td>False</td>\n",
       "    </tr>\n",
       "    <tr>\n",
       "      <th>33795</th>\n",
       "      <td>2011-12-06</td>\n",
       "      <td>Maldives</td>\n",
       "      <td>Bangladesh</td>\n",
       "      <td>3</td>\n",
       "      <td>1</td>\n",
       "      <td>SAFF Cup</td>\n",
       "      <td>New Delhi</td>\n",
       "      <td>India</td>\n",
       "      <td>True</td>\n",
       "      <td>4</td>\n",
       "      <td>2011</td>\n",
       "      <td>12</td>\n",
       "      <td>6</td>\n",
       "      <td>1</td>\n",
       "      <td>True</td>\n",
       "    </tr>\n",
       "    <tr>\n",
       "      <th>33796</th>\n",
       "      <td>2011-12-06</td>\n",
       "      <td>Pakistan</td>\n",
       "      <td>Nepal</td>\n",
       "      <td>1</td>\n",
       "      <td>1</td>\n",
       "      <td>SAFF Cup</td>\n",
       "      <td>New Delhi</td>\n",
       "      <td>India</td>\n",
       "      <td>True</td>\n",
       "      <td>2</td>\n",
       "      <td>2011</td>\n",
       "      <td>12</td>\n",
       "      <td>6</td>\n",
       "      <td>1</td>\n",
       "      <td>Draw</td>\n",
       "    </tr>\n",
       "    <tr>\n",
       "      <th>33799</th>\n",
       "      <td>2011-12-07</td>\n",
       "      <td>Bhutan</td>\n",
       "      <td>Afghanistan</td>\n",
       "      <td>1</td>\n",
       "      <td>8</td>\n",
       "      <td>SAFF Cup</td>\n",
       "      <td>New Delhi</td>\n",
       "      <td>India</td>\n",
       "      <td>True</td>\n",
       "      <td>9</td>\n",
       "      <td>2011</td>\n",
       "      <td>12</td>\n",
       "      <td>7</td>\n",
       "      <td>2</td>\n",
       "      <td>False</td>\n",
       "    </tr>\n",
       "    <tr>\n",
       "      <th>33800</th>\n",
       "      <td>2011-12-07</td>\n",
       "      <td>India</td>\n",
       "      <td>Sri Lanka</td>\n",
       "      <td>3</td>\n",
       "      <td>0</td>\n",
       "      <td>SAFF Cup</td>\n",
       "      <td>New Delhi</td>\n",
       "      <td>India</td>\n",
       "      <td>False</td>\n",
       "      <td>3</td>\n",
       "      <td>2011</td>\n",
       "      <td>12</td>\n",
       "      <td>7</td>\n",
       "      <td>2</td>\n",
       "      <td>True</td>\n",
       "    </tr>\n",
       "    <tr>\n",
       "      <th>33803</th>\n",
       "      <td>2011-12-09</td>\n",
       "      <td>Afghanistan</td>\n",
       "      <td>Nepal</td>\n",
       "      <td>1</td>\n",
       "      <td>0</td>\n",
       "      <td>SAFF Cup</td>\n",
       "      <td>New Delhi</td>\n",
       "      <td>India</td>\n",
       "      <td>True</td>\n",
       "      <td>1</td>\n",
       "      <td>2011</td>\n",
       "      <td>12</td>\n",
       "      <td>9</td>\n",
       "      <td>4</td>\n",
       "      <td>True</td>\n",
       "    </tr>\n",
       "    <tr>\n",
       "      <th>33804</th>\n",
       "      <td>2011-12-09</td>\n",
       "      <td>India</td>\n",
       "      <td>Maldives</td>\n",
       "      <td>3</td>\n",
       "      <td>1</td>\n",
       "      <td>SAFF Cup</td>\n",
       "      <td>New Delhi</td>\n",
       "      <td>India</td>\n",
       "      <td>False</td>\n",
       "      <td>4</td>\n",
       "      <td>2011</td>\n",
       "      <td>12</td>\n",
       "      <td>9</td>\n",
       "      <td>4</td>\n",
       "      <td>True</td>\n",
       "    </tr>\n",
       "    <tr>\n",
       "      <th>33808</th>\n",
       "      <td>2011-12-11</td>\n",
       "      <td>India</td>\n",
       "      <td>Afghanistan</td>\n",
       "      <td>4</td>\n",
       "      <td>0</td>\n",
       "      <td>SAFF Cup</td>\n",
       "      <td>New Delhi</td>\n",
       "      <td>India</td>\n",
       "      <td>False</td>\n",
       "      <td>4</td>\n",
       "      <td>2011</td>\n",
       "      <td>12</td>\n",
       "      <td>11</td>\n",
       "      <td>6</td>\n",
       "      <td>True</td>\n",
       "    </tr>\n",
       "  </tbody>\n",
       "</table>\n",
       "</div>"
      ],
      "text/plain": [
       "             date    home_team             away_team  home_score  away_score  \\\n",
       "32870  2011-03-23       Bhutan           Afghanistan           0           3   \n",
       "32877  2011-03-25  Afghanistan                Bhutan           2           0   \n",
       "33247  2011-07-28        India  United Arab Emirates           2           2   \n",
       "33349  2011-09-02    Argentina             Venezuela           1           0   \n",
       "33690  2011-11-13        India              Malaysia           1           1   \n",
       "33752  2011-11-16        India              Malaysia           3           2   \n",
       "33769  2011-11-29        India                Zambia           0           5   \n",
       "33776  2011-12-02   Bangladesh              Pakistan           0           0   \n",
       "33779  2011-12-02     Maldives                 Nepal           1           1   \n",
       "33782  2011-12-03        India           Afghanistan           1           1   \n",
       "33784  2011-12-03    Sri Lanka                Bhutan           3           0   \n",
       "33786  2011-12-04   Bangladesh                 Nepal           0           1   \n",
       "33788  2011-12-04     Maldives              Pakistan           0           0   \n",
       "33791  2011-12-05        India                Bhutan           5           0   \n",
       "33793  2011-12-05    Sri Lanka           Afghanistan           1           3   \n",
       "33795  2011-12-06     Maldives            Bangladesh           3           1   \n",
       "33796  2011-12-06     Pakistan                 Nepal           1           1   \n",
       "33799  2011-12-07       Bhutan           Afghanistan           1           8   \n",
       "33800  2011-12-07        India             Sri Lanka           3           0   \n",
       "33803  2011-12-09  Afghanistan                 Nepal           1           0   \n",
       "33804  2011-12-09        India              Maldives           3           1   \n",
       "33808  2011-12-11        India           Afghanistan           4           0   \n",
       "\n",
       "                            tournament       city country  neutral  \\\n",
       "32870  AFC Challenge Cup qualification    Gurgaon   India     True   \n",
       "32877  AFC Challenge Cup qualification    Gurgaon   India     True   \n",
       "33247     FIFA World Cup qualification  New Delhi   India    False   \n",
       "33349                         Friendly    Kolkata   India     True   \n",
       "33690                         Friendly   Guwahati   India    False   \n",
       "33752                         Friendly    Kolkata   India    False   \n",
       "33769                         Friendly     Margao   India    False   \n",
       "33776                         SAFF Cup  New Delhi   India     True   \n",
       "33779                         SAFF Cup  New Delhi   India     True   \n",
       "33782                         SAFF Cup  New Delhi   India    False   \n",
       "33784                         SAFF Cup  New Delhi   India     True   \n",
       "33786                         SAFF Cup  New Delhi   India     True   \n",
       "33788                         SAFF Cup  New Delhi   India     True   \n",
       "33791                         SAFF Cup  New Delhi   India    False   \n",
       "33793                         SAFF Cup  New Delhi   India     True   \n",
       "33795                         SAFF Cup  New Delhi   India     True   \n",
       "33796                         SAFF Cup  New Delhi   India     True   \n",
       "33799                         SAFF Cup  New Delhi   India     True   \n",
       "33800                         SAFF Cup  New Delhi   India    False   \n",
       "33803                         SAFF Cup  New Delhi   India     True   \n",
       "33804                         SAFF Cup  New Delhi   India    False   \n",
       "33808                         SAFF Cup  New Delhi   India    False   \n",
       "\n",
       "       total_goals  year  month  day  weekday home_win  \n",
       "32870            3  2011      3   23        2    False  \n",
       "32877            2  2011      3   25        4     True  \n",
       "33247            4  2011      7   28        3     Draw  \n",
       "33349            1  2011      9    2        4     True  \n",
       "33690            2  2011     11   13        6     Draw  \n",
       "33752            5  2011     11   16        2     True  \n",
       "33769            5  2011     11   29        1    False  \n",
       "33776            0  2011     12    2        4     Draw  \n",
       "33779            2  2011     12    2        4     Draw  \n",
       "33782            2  2011     12    3        5     Draw  \n",
       "33784            3  2011     12    3        5     True  \n",
       "33786            1  2011     12    4        6    False  \n",
       "33788            0  2011     12    4        6     Draw  \n",
       "33791            5  2011     12    5        0     True  \n",
       "33793            4  2011     12    5        0    False  \n",
       "33795            4  2011     12    6        1     True  \n",
       "33796            2  2011     12    6        1     Draw  \n",
       "33799            9  2011     12    7        2    False  \n",
       "33800            3  2011     12    7        2     True  \n",
       "33803            1  2011     12    9        4     True  \n",
       "33804            4  2011     12    9        4     True  \n",
       "33808            4  2011     12   11        6     True  "
      ]
     },
     "execution_count": 158,
     "metadata": {},
     "output_type": "execute_result"
    }
   ],
   "source": [
    "india_df[india_df.year==2011]"
   ]
  },
  {
   "cell_type": "markdown",
   "metadata": {},
   "source": [
    "We had SAFF Cup"
   ]
  },
  {
   "cell_type": "code",
   "execution_count": 167,
   "metadata": {
    "scrolled": true
   },
   "outputs": [
    {
     "data": {
      "text/plain": [
       "Nehru Cup                          89\n",
       "Friendly                           37\n",
       "SAFF Cup                           37\n",
       "AFC Asian Cup qualification        26\n",
       "FIFA World Cup qualification       19\n",
       "AFC Challenge Cup                  16\n",
       "Millennium Cup                     15\n",
       "Intercontinental Cup               14\n",
       "AFC Challenge Cup qualification     2\n",
       "Name: tournament, dtype: int64"
      ]
     },
     "execution_count": 167,
     "metadata": {},
     "output_type": "execute_result"
    }
   ],
   "source": [
    "india_df.tournament.value_counts()"
   ]
  },
  {
   "cell_type": "markdown",
   "metadata": {},
   "source": [
    "Let us save and upload our work to Jovian before continuing."
   ]
  },
  {
   "cell_type": "code",
   "execution_count": null,
   "metadata": {},
   "outputs": [],
   "source": [
    "import jovian"
   ]
  },
  {
   "cell_type": "code",
   "execution_count": 163,
   "metadata": {},
   "outputs": [
    {
     "data": {
      "application/javascript": [
       "window.require && require([\"base/js/namespace\"],function(Jupyter){Jupyter.notebook.save_checkpoint()})"
      ],
      "text/plain": [
       "<IPython.core.display.Javascript object>"
      ]
     },
     "metadata": {},
     "output_type": "display_data"
    },
    {
     "name": "stdout",
     "output_type": "stream",
     "text": [
      "[jovian] Attempting to save notebook..\u001b[0m\n",
      "[jovian] Updating notebook \"vatsaakhil/zerotopandas-football\" on https://jovian.ai\u001b[0m\n",
      "[jovian] Uploading notebook..\u001b[0m\n",
      "[jovian] Uploading additional files...\u001b[0m\n",
      "[jovian] Committed successfully! https://jovian.ai/vatsaakhil/zerotopandas-football\u001b[0m\n"
     ]
    },
    {
     "data": {
      "text/plain": [
       "'https://jovian.ai/vatsaakhil/zerotopandas-football'"
      ]
     },
     "execution_count": 163,
     "metadata": {},
     "output_type": "execute_result"
    }
   ],
   "source": [
    "jovian.commit()"
   ]
  },
  {
   "cell_type": "markdown",
   "metadata": {},
   "source": [
    "## Inferences and Conclusion\n"
   ]
  },
  {
   "cell_type": "markdown",
   "metadata": {},
   "source": [
    "From this data we were able to oserve following broad trends:\n",
    "<ol>\n",
    "<li>Most matches are played in January, August and December</li>\n",
    "<li>The home team has 0.42 probability of winning</li>\n",
    "<li>Most games are played on weekdays</li>\n",
    "<li>The probability of home team winning is more if the game is played in Kolkata or Thiruvananthapuram</li>\n",
    "<li>Guwahati has most goals scored in a match on an average</li>\n",
    "<li>Nehru Cup has the most games of all tournament</li>\n",
    "<li>New Delhi and Kolkata have the most number of matches</li>\n",
    "</ol>\n",
    "   "
   ]
  },
  {
   "cell_type": "code",
   "execution_count": 168,
   "metadata": {},
   "outputs": [],
   "source": [
    "import jovian"
   ]
  },
  {
   "cell_type": "code",
   "execution_count": null,
   "metadata": {},
   "outputs": [
    {
     "data": {
      "application/javascript": [
       "window.require && require([\"base/js/namespace\"],function(Jupyter){Jupyter.notebook.save_checkpoint()})"
      ],
      "text/plain": [
       "<IPython.core.display.Javascript object>"
      ]
     },
     "metadata": {},
     "output_type": "display_data"
    },
    {
     "name": "stdout",
     "output_type": "stream",
     "text": [
      "[jovian] Attempting to save notebook..\u001b[0m\n"
     ]
    }
   ],
   "source": [
    "jovian.commit()"
   ]
  },
  {
   "cell_type": "markdown",
   "metadata": {},
   "source": [
    "## References and Future Work\n",
    "\n",
    "**TODO** - Visit this link for more reference-> https://www.kaggle.com/martj42/international-football-results-from-1872-to-2017\n",
    "\n"
   ]
  },
  {
   "cell_type": "code",
   "execution_count": null,
   "metadata": {},
   "outputs": [],
   "source": [
    "import jovian"
   ]
  },
  {
   "cell_type": "code",
   "execution_count": 165,
   "metadata": {
    "scrolled": true
   },
   "outputs": [
    {
     "data": {
      "application/javascript": [
       "window.require && require([\"base/js/namespace\"],function(Jupyter){Jupyter.notebook.save_checkpoint()})"
      ],
      "text/plain": [
       "<IPython.core.display.Javascript object>"
      ]
     },
     "metadata": {},
     "output_type": "display_data"
    },
    {
     "name": "stdout",
     "output_type": "stream",
     "text": [
      "[jovian] Attempting to save notebook..\u001b[0m\n",
      "[jovian] Updating notebook \"vatsaakhil/zerotopandas-football\" on https://jovian.ai\u001b[0m\n",
      "[jovian] Uploading notebook..\u001b[0m\n",
      "[jovian] Uploading additional files...\u001b[0m\n",
      "[jovian] Committed successfully! https://jovian.ai/vatsaakhil/zerotopandas-football\u001b[0m\n"
     ]
    },
    {
     "data": {
      "text/plain": [
       "'https://jovian.ai/vatsaakhil/zerotopandas-football'"
      ]
     },
     "execution_count": 165,
     "metadata": {},
     "output_type": "execute_result"
    }
   ],
   "source": [
    "jovian.commit()"
   ]
  },
  {
   "cell_type": "code",
   "execution_count": null,
   "metadata": {},
   "outputs": [],
   "source": []
  }
 ],
 "metadata": {
  "language_info": {
   "codemirror_mode": {
    "name": "ipython",
    "version": 3
   },
   "file_extension": ".py",
   "mimetype": "text/x-python",
   "name": "python",
   "nbconvert_exporter": "python",
   "pygments_lexer": "ipython3",
   "version": "3.8.6"
  }
 },
 "nbformat": 4,
 "nbformat_minor": 4
}